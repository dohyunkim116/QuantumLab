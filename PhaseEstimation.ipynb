{
 "cells": [
  {
   "cell_type": "markdown",
   "id": "0ce02403",
   "metadata": {},
   "source": [
    "# Quantum Lab2: Phase estimation"
   ]
  },
  {
   "cell_type": "markdown",
   "id": "bf663021-81d8-42d9-a898-efbdf3c90d30",
   "metadata": {},
   "source": [
    "## Part 1: Performance of Quantum Phase Estimation"
   ]
  },
  {
   "cell_type": "markdown",
   "id": "758edafa-57a5-446d-af6c-85d661e9d9fc",
   "metadata": {},
   "source": [
    "Goal of this lab:\n",
    "\n",
    "Investigate the relationship between the number of qubits required for the desired accuracy of the phase estimation with high probability.\n",
    "\n",
    "The accuracy of the estimated value through Quantum Phase Estimation (QPE) and its probability of success depend on the number of qubits employed in QPE circuits. Therefore, one might want to know the necessary number of qubits to achieve the targeted level of QPE performance, especially when the phase that needs to be determined cannot be decomposed in a finite bit binary expansion. In Part 1 of this lab, we examine the number of qubits required to accomplish the desired accuracy and the probability of success in determining the phase through QPE."
   ]
  },
  {
   "cell_type": "code",
   "execution_count": 2,
   "id": "a9676562",
   "metadata": {},
   "outputs": [],
   "source": [
    "from qiskit import *\n",
    "from qiskit_aer import AerSimulator\n",
    "import numpy as np\n",
    "from qiskit.visualization import plot_histogram\n",
    "import matplotlib.pyplot as plt\n",
    "import math\n",
    "from qiskit.circuit.library import QFT"
   ]
  },
  {
   "cell_type": "markdown",
   "id": "50270c65-be5a-4603-83ac-dfa8ea585a61",
   "metadata": {},
   "source": [
    "In the following section, we want to do quantum phase estimation for gate $U_1(2\\pi/3)$, with respect to eigen state $\\ket{1}$\n",
    "\n",
    "The following page give the definition of $U_1$ gate:\n",
    "https://docs.quantum.ibm.com/api/qiskit/qiskit.circuit.library.U1Gate"
   ]
  },
  {
   "cell_type": "markdown",
   "id": "3a8c55b1-6781-4d72-a547-f0f6eb34989c",
   "metadata": {},
   "source": [
    "### 1. Find the probability of obtaining the estimation for a phase value accurate to $2^{-2}$ successfully with four counting qubits."
   ]
  },
  {
   "cell_type": "markdown",
   "id": "4522b1d0-73c7-46fd-a576-350073b757e6",
   "metadata": {},
   "source": [
    "You are already provided with the circuit of quantum fourier transform.\n",
    "You can directly use qft function to build your circuit of quantum phase estimation"
   ]
  },
  {
   "cell_type": "code",
   "execution_count": null,
   "id": "3e55923a",
   "metadata": {},
   "outputs": [],
   "source": [
    "def qft(n):\n",
    "    \"\"\"Creates an n-qubit QFT circuit\"\"\"\n",
    "    circuit = QuantumCircuit(n)\n",
    "    def swap_registers(circuit, n):\n",
    "        for qubit in range(n//2):\n",
    "            circuit.swap(qubit, n-qubit-1)\n",
    "        return circuit\n",
    "    def qft_rotations(circuit, n):\n",
    "        \"\"\"Performs qft on the first n qubits in circuit (without swaps)\"\"\"\n",
    "        if n == 0:\n",
    "            return circuit\n",
    "        n -= 1\n",
    "        circuit.h(n)\n",
    "        for qubit in range(n):\n",
    "            circuit.cp(np.pi/2**(n-qubit), qubit, n)\n",
    "        qft_rotations(circuit, n)\n",
    "    \n",
    "    qft_rotations(circuit, n)\n",
    "    swap_registers(circuit, n)\n",
    "    return circuit"
   ]
  },
  {
   "cell_type": "markdown",
   "id": "5d69e4a0-5fe4-44d0-8879-1dd34285d313",
   "metadata": {},
   "source": [
    "#### 1.Step A. Set up the QPE circuit with four counting qubits and save the circuit to the variable 'qc4'. Execute 'qc4' on a qasm simulator. Plot the histogram of the result."
   ]
  },
  {
   "cell_type": "code",
   "execution_count": null,
   "id": "e61e7433",
   "metadata": {},
   "outputs": [],
   "source": [
    "## Start your code to create the circuit, qc4\n",
    "## Keep in mind that the target unitary is U_1(2\\pi/3), and the eigen state is |1>\n",
    "\n",
    "\n",
    "qc4.draw()"
   ]
  },
  {
   "cell_type": "code",
   "execution_count": null,
   "id": "ba477745",
   "metadata": {},
   "outputs": [],
   "source": [
    "## Run this cell to simulate 'qc4' and to plot the histogram of the result\n",
    "sim = AerSimulator()\n",
    "shots = 20000\n",
    "transpiled_circuit = transpile(qc4, sim)\n",
    "job = sim.run(transpiled_circuit, shots=1000) # Run the circuit 1000 times \n",
    "count_qc4 = job.result().get_counts() \n",
    "\n",
    "\n",
    "\n",
    "plot_histogram(count_qc4, figsize=(9,5))"
   ]
  },
  {
   "cell_type": "markdown",
   "id": "b8c0bf8d-bb97-4f93-867c-6f19595456fa",
   "metadata": {},
   "source": [
    "Having performed Step A successfully, you will have obtained a distribution similar to the one shown below with the highest probability at 0101 which corresponds to the estimated $\\phi$ value, $0.3125$"
   ]
  },
  {
   "cell_type": "markdown",
   "id": "2f6b1259-36fa-4ec3-8536-c461e3a7cde2",
   "metadata": {},
   "source": [
    "![title](Figure/L5_qc4_hist.png)"
   ]
  },
  {
   "cell_type": "markdown",
   "id": "62f909d2-7488-4913-b6c7-17fbf9a55cc3",
   "metadata": {},
   "source": [
    "Since the number of counting qubits used for the circuit is four, the best estimated value should be accurate to \n",
    "$\\delta=2^{-4}=0.0625$. However, there are multiple possible outcomes as $\\theta=1/3$ cannot be expressed in a finite number of bits, the estimation by QPE here is not always bounded by this accuracy.\n",
    "\n",
    "Running the following cell shows the same histogram but with all possible estimated estimated $\\phi$ values  on the x-axis"
   ]
  },
  {
   "cell_type": "code",
   "execution_count": null,
   "id": "4c6565ab",
   "metadata": {},
   "outputs": [],
   "source": [
    "t=4\n",
    "phi_est = np.array([round(int(key, 2)/2**t,3) for key in list(count_qc4.keys())])\n",
    "key_new = list(map(str, phi_est))\n",
    "count_new = dict(zip(key_new, count_qc4.values()))\n",
    "plot_histogram(count_new, figsize=(9,5))"
   ]
  },
  {
   "cell_type": "markdown",
   "id": "6ffd59a6-19de-45b6-a2f6-be9b0357a4f6",
   "metadata": {},
   "source": [
    "Suppose the outcome of the final measurement is , and let the best estimation which is $0.3125$ for this case."
   ]
  },
  {
   "cell_type": "markdown",
   "id": "d8db9afc-6f1e-4e4d-9587-c1adb7a9b340",
   "metadata": {},
   "source": [
    "#### Step B. Find e, the maximum difference in integer from the best estimation 0101 so that all the outcomes, 'm's, would approximate $\\phi$ to an accuracy $2^{-2}$ when $|m-b|\\leq \\frac{e}{2^t}$"
   ]
  },
  {
   "cell_type": "markdown",
   "id": "a0aa6ff0-be82-415e-8dcd-f6e25372a6b8",
   "metadata": {},
   "source": [
    "In this case, the value of $t$ and $b$ are $4$ and $0.3125$, respectively.\n",
    "\n",
    "For example, under $e=1$, the considered outcomes are 0100, 0101, 0110 which correspond to the values of $m$: \n",
    "$0.25,0.312,0.375$, respectively, and all of them approximate the value $\\frac{1}{3}$ to an accuracy $2^{-2}$."
   ]
  },
  {
   "cell_type": "code",
   "execution_count": null,
   "id": "258ecd12-33cd-4d57-a8c1-3670a27b1c98",
   "metadata": {},
   "outputs": [],
   "source": [
    "# Your code goes here"
   ]
  },
  {
   "cell_type": "markdown",
   "id": "092c7c7d-e7b9-46bb-9779-5fe02222f0d0",
   "metadata": {},
   "source": [
    "#### Step C: Compute the probability of obtaining an approximation correct to an accuracy $2^{-2}$. Verify that the computed probability value is larger or equal to $1-\\frac{1}{2(2^{(t-n)}-2)}$ where $t$ is the number of counting bits and the $2^{-n}$ is the desired accuracy."
   ]
  },
  {
   "cell_type": "markdown",
   "id": "455d4cfe-d4fc-4be5-80a5-24ae728bf07e",
   "metadata": {},
   "source": [
    "Now it is easy to evaluate the probability of the success from the histogram since all the outcomes that approximate $\\phi$ to the accuracy \n",
    "$2^{-2}$ can be found based on the maximum difference $e$ from the best estimate."
   ]
  },
  {
   "cell_type": "code",
   "execution_count": null,
   "id": "e2f48ca0-5943-45a1-b512-a6fd59e70fec",
   "metadata": {},
   "outputs": [],
   "source": [
    "# Your code goes here"
   ]
  },
  {
   "cell_type": "markdown",
   "id": "39fc989c-cdc8-4ecf-a20d-c08e04e2f362",
   "metadata": {},
   "source": [
    "### 2. Compute the probability of success for the accuracy $2^{-2}$, when the number of counting qubits $t$, varies from four to nine. Compare your result with the equation $t=n+\\log(2+\\frac{1}{2\\epsilon})$ when $2^{-n}$ is the desired accuracy and $\\epsilon$ is 1-probability of success"
   ]
  },
  {
   "cell_type": "markdown",
   "id": "7d596498-0919-4cd1-bb4f-45db20789c2b",
   "metadata": {},
   "source": [
    "The following plot shows the relationship between the number of counting qubit, $t$, and the minimum probability of success to approximate the phase to an accuracy $2^{-2}$. Check the Ch. 5.2.1 Performance and requirements in [Michael A. Nielsen and Isaac L. Chuang. 2011. Quantum Computation and Quantum Information]."
   ]
  },
  {
   "cell_type": "code",
   "execution_count": 3,
   "id": "83cde0ac-ff5b-4128-a7dc-e3ea27854efe",
   "metadata": {},
   "outputs": [
    {
     "data": {
      "image/png": "[encoded data removed]",
      "text/plain": [
       "<Figure size 700x500 with 1 Axes>"
      ]
     },
     "metadata": {},
     "output_type": "display_data"
    }
   ],
   "source": [
    "y = lambda t, n: 1-1/(2*(2**(t-n)-2))\n",
    "t_q = np.linspace(3.5, 9.5, 100 )\n",
    "p_min = y(t_q, 2)\n",
    "\n",
    "plt.figure(figsize=(7, 5))\n",
    "plt.plot(t_q, p_min, label='$p_{min}$')\n",
    "plt.xlabel('t: number of counting qubits')\n",
    "plt.ylabel('probability of success for the accuracy $2^{-2}$')\n",
    "plt.legend(loc='lower right')\n",
    "plt.title('Probability of success for different number of counting qubits')\n",
    "plt.show()"
   ]
  },
  {
   "cell_type": "markdown",
   "id": "085e62db-b907-4c37-88d6-7a16e693875d",
   "metadata": {},
   "source": [
    "#### Step A. Construct QPE circuit to estimate $\\phi$ when $\\phi=1/3$ with for the different number of counting qubits $t$ , when $t=[4,5,6,7,8,9]$. Store all the circuits in a list variable 'circ' to simulate all the circuits at once as we did in Lab3."
   ]
  },
  {
   "cell_type": "code",
   "execution_count": 4,
   "id": "782cb64f-cec6-4672-bdc3-f12d49b1085f",
   "metadata": {},
   "outputs": [],
   "source": [
    "## Your Code to create the list variable 'circ' goes here"
   ]
  },
  {
   "cell_type": "code",
   "execution_count": null,
   "id": "fd8533bb-b979-4003-90b2-4a21bd0cb2ba",
   "metadata": {},
   "outputs": [],
   "source": [
    "# Run this cell to simulate `circ` and plot the histograms of the results\n",
    "\n",
    "results = execute(circ, sim, shots=shots).result()\n",
    "\n",
    "n_circ = len(circ)\n",
    "counts = [results.get_counts(idx) for idx in range(n_circ)]\n",
    "\n",
    "fig, ax = plt.subplots(n_circ,1,figsize=(25,40))\n",
    "for idx in range(n_circ):\n",
    "    plot_histogram(counts[idx], ax=ax[idx])\n",
    "plt.tight_layout()"
   ]
  },
  {
   "cell_type": "markdown",
   "id": "36bd4d82-64c5-47ff-9092-7d9412d26509",
   "metadata": {},
   "source": [
    "#### Step B. Determine $e$, the maximum difference in integer from the best estimation for the different numer of counting qubits, $t=[4,5,6,7,8,9]$. Verify the relationship $e=2^{t-n}-1$ where $n=2$ since the desired accuracy is $2^{-2}$ in this case."
   ]
  },
  {
   "cell_type": "code",
   "execution_count": 6,
   "id": "8c7f63ad-fe0b-4722-9944-143a3f15b01f",
   "metadata": {},
   "outputs": [],
   "source": [
    "## Your Code goes here"
   ]
  },
  {
   "cell_type": "markdown",
   "id": "d483b6c8-73d8-47d5-9369-8339b74faba1",
   "metadata": {},
   "source": [
    "If you successfully calculated $e$ values for all the counting qubits $t=[4,5,6,7,8,9]$, you will be able to generate the following graph that verifies the relationship $e=2^{t-2}-1$ with the values that you computed."
   ]
  },
  {
   "cell_type": "markdown",
   "id": "670ee71c-ca37-4760-a2a5-a4e6c25b8308",
   "metadata": {},
   "source": [
    "![title](Figure/L5_e_max.png)"
   ]
  },
  {
   "cell_type": "markdown",
   "id": "df76b849-dcac-4f6c-92df-a6cb7ac01098",
   "metadata": {},
   "source": [
    "#### Step C. Evaluate the probability of success estimating $\\phi$ to an accuracy $2^{-2}$ for all the values of $t$, the number of counting qubits. Save the probabilities to the list variable, 'prob_success'."
   ]
  },
  {
   "cell_type": "code",
   "execution_count": 5,
   "id": "62cfd5aa-44fc-4a14-a35a-b742c3e533ac",
   "metadata": {},
   "outputs": [],
   "source": [
    "## Your Code goes here"
   ]
  },
  {
   "cell_type": "markdown",
   "id": "64c669be-79fa-4a4c-ac73-066b9069cb73",
   "metadata": {},
   "source": [
    "#### Step D. Overlay the results of Step C on the graph that shows the relationship between the number of counting qubits $t$, and the minimum probability of success to approximate the phase to an accuracy $2^{-2}$. Understand the result."
   ]
  },
  {
   "cell_type": "code",
   "execution_count": 7,
   "id": "7ac60ec1-88bc-4bf9-be38-eb2aa19f4324",
   "metadata": {},
   "outputs": [],
   "source": [
    "## Your code goes here"
   ]
  },
  {
   "cell_type": "markdown",
   "id": "58910888-da60-49be-9d28-9a62ccecb452",
   "metadata": {},
   "source": [
    "![title](Figure/L5_prob_t.png)"
   ]
  },
  {
   "cell_type": "markdown",
   "id": "54554afd-2139-436d-8995-dd2ab563ac7e",
   "metadata": {},
   "source": [
    "Your plot should be similar to the above one. The line plot in the left pannel shows the minimum success probability to estimate $\\phi$ within the accuracy $2^{-2}$ as the number of counting qubits varies. The overlayed orange dots are the same values, but from the simulation, which confirms the relationship the line plot represents as the lower bound. The right pannel displays the same result but zoomed by adjusting the y-axis range."
   ]
  },
  {
   "cell_type": "markdown",
   "id": "b5905983-f199-447a-b0fd-19d16f5f0843",
   "metadata": {},
   "source": [
    "The following graph exhibits the relationships with different accuracy levels. The relationship, $t=n+\\log(2+\\frac{1}{2\\epsilon})$, indicates the number of counting qubits $t$ to estimate $\\phi$ to an accuracy $2^{-2}$ with probability of success at least $1-\\epsilon$, as we validated above."
   ]
  },
  {
   "cell_type": "code",
   "execution_count": 6,
   "id": "bce78b4d-66da-4330-8198-c673f2b5f54b",
   "metadata": {},
   "outputs": [
    {
     "data": {
      "image/png": "[encoded data removed]",
      "text/plain": [
       "<Figure size 700x500 with 1 Axes>"
      ]
     },
     "metadata": {},
     "output_type": "display_data"
    }
   ],
   "source": [
    "t = np.linspace(5.1, 10, 100)\n",
    "prob_success_n = [y(t, n) for n in [2, 3, 4]]\n",
    "prob_n2, prob_n3, prob_n4  = prob_success_n[0], prob_success_n[1], prob_success_n[2]\n",
    "\n",
    "plt.figure(figsize=(7, 5))\n",
    "plt.plot(t, prob_n2, t, prob_n3, t, prob_n4, t, [1]*len(t),'--' )\n",
    "plt.axis([5, 10, 0.7, 1.05])\n",
    "plt.xlabel('t: number of counting qubits')\n",
    "plt.ylabel('probability of success for the accuracy $2^{-n}$')\n",
    "plt.legend(['n = 2', 'n = 3', 'n = 4'], loc='lower right')\n",
    "plt.grid(True)"
   ]
  },
  {
   "cell_type": "markdown",
   "id": "ee53f6b2-bf92-4a3f-9ab3-516cc87db946",
   "metadata": {},
   "source": [
    "# Part2. Use noisy fake quantum computer and redo the above experiment"
   ]
  },
  {
   "cell_type": "markdown",
   "id": "8acfe36a-b028-4352-9375-5a27b8c37503",
   "metadata": {},
   "source": [
    "Goal\n",
    "\n",
    "Run the QPE circuit on a real quantum system to understand the result and limitations when using noisy quantum systems\n",
    "\n",
    "The accuracy anaylsis that we performed in Part 1 would not be correct when the QPE circuit is executed on present day noisy quantum systems. In part 2, we will obtain QPE results by running the circuit on a fake backend to examine how noise affects the outcome and learn techniques to reduce its impact."
   ]
  },
  {
   "cell_type": "markdown",
   "id": "1153fe87-ee85-4df6-9be8-4b22e06d3939",
   "metadata": {},
   "source": [
    "#### Step A: Import the fackbackend"
   ]
  },
  {
   "cell_type": "code",
   "execution_count": null,
   "id": "98b900b4-121f-47cf-82e1-ef27f5c59419",
   "metadata": {},
   "outputs": [],
   "source": [
    "## Your code goes here"
   ]
  },
  {
   "cell_type": "markdown",
   "id": "2329d241-8f39-4588-a1d5-6f66f6f170b4",
   "metadata": {},
   "source": [
    "#### Step B. Generate multiple ( as many as you want ) transpiled circuits of qc4 that you set up in Part 1 at the beginning. Choose one with the minimum circuit depth, and the other with the maximum circuit depth."
   ]
  },
  {
   "cell_type": "markdown",
   "id": "9ded3f59-d304-4971-b466-543af83c20ac",
   "metadata": {},
   "source": [
    "Transpile the circuit with the parameter optimization_level = 3 to reduce the error in the result. As we learned in Lab 1, Qiskit by default uses a stochastic swap mapper to place the needed SWAP gates, which varies the tranpiled circuit results even under the same runtime settings. Therefore, to achieve shorter depth transpiled circuit for smaller error in the outcome, transpile qc4 multiple times and choose one with the minimum circuit depth. Select the maximum circuit depth one as well for comparison purposes."
   ]
  },
  {
   "cell_type": "code",
   "execution_count": null,
   "id": "fd388193-4b7a-4a8c-9929-e63cd653fd3e",
   "metadata": {},
   "outputs": [],
   "source": [
    "## Your code goes here"
   ]
  },
  {
   "cell_type": "markdown",
   "id": "69e0ce63-d9cc-4f14-89cf-5b663c0cfad7",
   "metadata": {},
   "source": [
    "#### Step C. Execute both circuits on the fake backend. Plot the histogram for the results and compare them with the simulation result in Part 1."
   ]
  },
  {
   "cell_type": "code",
   "execution_count": null,
   "id": "b05a8fc5-6467-46cb-96f2-9a37cd0c0407",
   "metadata": {},
   "outputs": [],
   "source": [
    "## Your code goes here"
   ]
  },
  {
   "cell_type": "markdown",
   "id": "5745efd0-db49-49eb-aef9-5da002b3c0bf",
   "metadata": {},
   "source": [
    "The following shows the sample result."
   ]
  },
  {
   "cell_type": "markdown",
   "id": "c975c5a8-ba22-4973-b8ef-8a087b43c3a5",
   "metadata": {},
   "source": [
    "![title](Figure/L5_QPEresults.png)"
   ]
  }
 ],
 "metadata": {
  "kernelspec": {
   "display_name": "Python 3 (ipykernel)",
   "language": "python",
   "name": "python3"
  },
  "language_info": {
   "codemirror_mode": {
    "name": "ipython",
    "version": 3
   },
   "file_extension": ".py",
   "mimetype": "text/x-python",
   "name": "python",
   "nbconvert_exporter": "python",
   "pygments_lexer": "ipython3",
   "version": "3.11.0"
  }
 },
 "nbformat": 4,
 "nbformat_minor": 5
}
