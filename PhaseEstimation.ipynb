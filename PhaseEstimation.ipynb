{
 "cells": [
  {
   "cell_type": "markdown",
   "id": "0ce02403",
   "metadata": {},
   "source": [
    "# Qiskit Lab2"
   ]
  },
  {
   "cell_type": "code",
   "execution_count": 1,
   "id": "a9676562",
   "metadata": {},
   "outputs": [],
   "source": [
    "from qiskit import QuantumCircuit\n",
    "from qiskit_aer import AerSimulator\n",
    "import numpy as np"
   ]
  },
  {
   "cell_type": "code",
   "execution_count": 2,
   "id": "3e55923a",
   "metadata": {},
   "outputs": [],
   "source": [
    "def qft(n):\n",
    "    \"\"\"Creates an n-qubit QFT circuit\"\"\"\n",
    "    circuit = QuantumCircuit(n)\n",
    "    def swap_registers(circuit, n):\n",
    "        for qubit in range(n//2):\n",
    "            circuit.swap(qubit, n-qubit-1)\n",
    "        return circuit\n",
    "    def qft_rotations(circuit, n):\n",
    "        \"\"\"Performs qft on the first n qubits in circuit (without swaps)\"\"\"\n",
    "        if n == 0:\n",
    "            return circuit\n",
    "        n -= 1\n",
    "        circuit.h(n)\n",
    "        for qubit in range(n):\n",
    "            circuit.cp(np.pi/2**(n-qubit), qubit, n)\n",
    "        qft_rotations(circuit, n)\n",
    "    \n",
    "    qft_rotations(circuit, n)\n",
    "    swap_registers(circuit, n)\n",
    "    return circuit"
   ]
  },
  {
   "cell_type": "code",
   "execution_count": null,
   "id": "e61e7433",
   "metadata": {},
   "outputs": [],
   "source": [
    "## Start your code to create the circuit, qc4\n",
    "\n",
    "\n",
    "\n",
    "\n",
    "\n",
    "\n",
    "\n",
    "qc4.draw()"
   ]
  },
  {
   "cell_type": "code",
   "execution_count": null,
   "id": "ba477745",
   "metadata": {},
   "outputs": [],
   "source": [
    "## Run this cell to simulate 'qc4' and to plot the histogram of the result\n",
    "sim = AerSimulator()\n",
    "shots = 20000\n",
    "\n",
    "job = sim.run(qc4, shots=shots, memory=True)\n",
    "output = job.result().get_counts()\n",
    "\n",
    "plot_histogram(count_qc4, figsize=(9,5))"
   ]
  },
  {
   "cell_type": "code",
   "execution_count": null,
   "id": "4c6565ab",
   "metadata": {},
   "outputs": [],
   "source": [
    "phi_est = np.array([round(int(key, 2)/2**t,3) for key in list(count_qc4.keys())])\n",
    "key_new = list(map(str, phi_est))\n",
    "count_new = dict(zip(key_new, count_qc4.values()))\n",
    "plot_histogram(count_new, figsize=(9,5))"
   ]
  },
  {
   "cell_type": "code",
   "execution_count": null,
   "id": "28b67c6f",
   "metadata": {},
   "outputs": [],
   "source": [
    "y = lambda t, n: 1-1/(2*(2**(t-n)-2))\n",
    "t_q = np.linspace(3.5, 9.5, 100 )\n",
    "p_min = y(t_q, 2)\n",
    "\n",
    "plt.figure(figsize=(7, 5))\n",
    "plt.plot(t_q, p_min, label='$p_{min}$')\n",
    "plt.xlabel('t: number of counting qubits')\n",
    "plt.ylabel('probability of success for the accuracy $2^{-2}$')\n",
    "plt.legend(loc='lower right')\n",
    "plt.title('Probability of success for different number of counting qubits')\n",
    "plt.show()"
   ]
  },
  {
   "cell_type": "code",
   "execution_count": null,
   "id": "c5d8be17",
   "metadata": {},
   "outputs": [],
   "source": [
    "# Run this cell to simulate `circ` and plot the histograms of the results\n",
    "\n",
    "results = execute(circ, sim, shots=shots).result()\n",
    "\n",
    "n_circ = len(circ)\n",
    "counts = [results.get_counts(idx) for idx in range(n_circ)]\n",
    "\n",
    "fig, ax = plt.subplots(n_circ,1,figsize=(25,40))\n",
    "for idx in range(n_circ):\n",
    "    plot_histogram(counts[idx], ax=ax[idx])\n",
    "plt.tight_layout()"
   ]
  },
  {
   "cell_type": "code",
   "execution_count": null,
   "id": "1042427b",
   "metadata": {},
   "outputs": [],
   "source": []
  }
 ],
 "metadata": {
  "kernelspec": {
   "display_name": "Python 3 (ipykernel)",
   "language": "python",
   "name": "python3"
  },
  "language_info": {
   "codemirror_mode": {
    "name": "ipython",
    "version": 3
   },
   "file_extension": ".py",
   "mimetype": "text/x-python",
   "name": "python",
   "nbconvert_exporter": "python",
   "pygments_lexer": "ipython3",
   "version": "3.11.1"
  }
 },
 "nbformat": 4,
 "nbformat_minor": 5
}
