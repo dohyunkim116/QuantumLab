{
 "cells": [
  {
   "cell_type": "markdown",
   "id": "9560fa83",
   "metadata": {},
   "source": [
    "# Qiskit Lab1"
   ]
  },
  {
   "cell_type": "markdown",
   "id": "74205648",
   "metadata": {},
   "source": [
    "## Quantum circuit and logic operation "
   ]
  },
  {
   "cell_type": "markdown",
   "id": "21bd665a-81c0-4078-9eee-d9c01d8e6d45",
   "metadata": {},
   "source": [
    "Goal\n",
    "\n",
    "Create quantum circuit functions that can compute the XOR, AND, NAND and OR gates using the NOT gate (expressed as x in Qiskit), the CNOT gate (expressed as cx in Qiskit) and the Toffoli gate (expressed as ccx in Qiskit).\n",
    "\n",
    "An implementation of the NOT gate is provided as an example."
   ]
  },
  {
   "cell_type": "code",
   "execution_count": 1,
   "id": "1acd2337",
   "metadata": {},
   "outputs": [],
   "source": [
    "from qiskit import QuantumCircuit\n",
    "from qiskit_aer import AerSimulator\n"
   ]
  },
  {
   "cell_type": "markdown",
   "id": "de04b4c7-eef1-4950-83df-775923887cad",
   "metadata": {},
   "source": [
    "## NOT Gate"
   ]
  },
  {
   "cell_type": "code",
   "execution_count": 2,
   "id": "f3d2afc1",
   "metadata": {},
   "outputs": [],
   "source": [
    "def NOT(inp):\n",
    "    \"\"\"An NOT gate.\n",
    "    \n",
    "    Parameters:\n",
    "        inp (str): Input, encoded in qubit 0.\n",
    "        \n",
    "    Returns:\n",
    "        QuantumCircuit: Output NOT circuit.\n",
    "        str: Output value measured from qubit 0.\n",
    "    \"\"\"\n",
    "\n",
    "    qc = QuantumCircuit(1, 1) # A quantum circuit with a single qubit and a single classical bit\n",
    "    qc.reset(0)\n",
    "    \n",
    "    # We encode '0' as the qubit state |0⟩, and '1' as |1⟩\n",
    "    # Since the qubit is initially |0⟩, we don't need to do anything for an input of '0'\n",
    "    # For an input of '1', we do an x to rotate the |0⟩ to |1⟩\n",
    "    if inp=='1':\n",
    "        qc.x(0)\n",
    "        \n",
    "    # barrier between input state and gate operation \n",
    "    qc.barrier()\n",
    "    \n",
    "    # Now we've encoded the input, we can do a NOT on it using x\n",
    "    qc.x(0)\n",
    "    \n",
    "    #barrier between gate operation and measurement\n",
    "    qc.barrier()\n",
    "    \n",
    "    # Finally, we extract the |0⟩/|1⟩ output of the qubit and encode it in the bit c[0]\n",
    "    qc.measure(0,0)\n",
    "    qc.draw()\n",
    "    \n",
    "    # We'll run the program on a simulator\n",
    "    backend = AerSimulator()\n",
    "    # Since the output will be deterministic, we can use just a single shot to get it\n",
    "    job = backend.run(qc, shots=1, memory=True)\n",
    "    output = job.result().get_memory()[0]\n",
    "    \n",
    "    return qc, output"
   ]
  },
  {
   "cell_type": "code",
   "execution_count": 3,
   "id": "348109e6",
   "metadata": {},
   "outputs": [],
   "source": [
    "qc, output=NOT(\"0\")"
   ]
  },
  {
   "cell_type": "code",
   "execution_count": 4,
   "id": "3383ded8",
   "metadata": {},
   "outputs": [
    {
     "data": {
      "image/png": "[encoded data removed]",
      "text/plain": [
       "<Figure size 519.897x200.667 with 1 Axes>"
      ]
     },
     "execution_count": 4,
     "metadata": {},
     "output_type": "execute_result"
    }
   ],
   "source": [
    "qc.draw(output=\"mpl\")"
   ]
  },
  {
   "cell_type": "markdown",
   "id": "8c3ee2e0-5e19-4afb-8e89-12bc063edecd",
   "metadata": {},
   "source": [
    "## XOR Gate"
   ]
  },
  {
   "cell_type": "markdown",
   "id": "b9a33833-2f1a-409c-a49d-08fc83030089",
   "metadata": {},
   "source": [
    "Now it's your turn to implement the XOR gate.\n",
    "\n",
    "Takes two binary strings as input and gives one as output.\n",
    "The output is '0' when the inputs are equal and '1' otherwise."
   ]
  },
  {
   "cell_type": "code",
   "execution_count": 5,
   "id": "27e2f160",
   "metadata": {},
   "outputs": [],
   "source": [
    "def XOR(inp1,inp2):\n",
    "    \"\"\"An XOR gate.\n",
    "    \n",
    "    Parameters:\n",
    "        inpt1 (str): Input 1, encoded in qubit 0.\n",
    "        inpt2 (str): Input 2, encoded in qubit 1.\n",
    "        \n",
    "    Returns:\n",
    "        QuantumCircuit: Output XOR circuit.\n",
    "        str: Output value measured from qubit 1.\n",
    "    \"\"\"\n",
    "  \n",
    "    qc = QuantumCircuit(2, 1) \n",
    "    qc.reset(range(2))\n",
    "    \n",
    "    if inp1=='1':\n",
    "        qc.x(0)\n",
    "    if inp2=='1':\n",
    "        qc.x(1)\n",
    "    \n",
    "    # barrier between input state and gate operation \n",
    "    qc.barrier()\n",
    "    \n",
    "    # this is where your program for quantum XOR gate goes\n",
    "    \n",
    "    \n",
    "    \n",
    "    \n",
    "    \n",
    "    \n",
    "    \n",
    "    \n",
    "    # barrier between input state and gate operation \n",
    "    qc.barrier()\n",
    "    \n",
    "    qc.measure(1,0) # output from qubit 1 is measured\n",
    "  \n",
    "    #We'll run the program on a simulator\n",
    "    backend = AerSimulator()\n",
    "    #Since the output will be deterministic, we can use just a single shot to get it\n",
    "    job = backend.run(qc, shots=1, memory=True)\n",
    "    output = job.result().get_memory()[0]\n",
    "  \n",
    "    return qc, output"
   ]
  },
  {
   "cell_type": "markdown",
   "id": "cd800998-c3bf-4dde-ba6b-0f38c8ca4df2",
   "metadata": {},
   "source": [
    "## AND Gate"
   ]
  },
  {
   "cell_type": "markdown",
   "id": "f7271390-c336-4e84-bf09-402ebe33be5c",
   "metadata": {},
   "source": [
    "Please implement AND Gate.\n",
    "\n",
    "Takes two binary strings as input and gives one as output.\n",
    "\n",
    "The output is '1' only when both the inputs are '1'."
   ]
  },
  {
   "cell_type": "code",
   "execution_count": 6,
   "id": "52a32add",
   "metadata": {},
   "outputs": [],
   "source": [
    "def AND(inp1,inp2):\n",
    "    \"\"\"An AND gate.\n",
    "    \n",
    "    Parameters:\n",
    "        inpt1 (str): Input 1, encoded in qubit 0.\n",
    "        inpt2 (str): Input 2, encoded in qubit 1.\n",
    "        \n",
    "    Returns:\n",
    "        QuantumCircuit: Output XOR circuit.\n",
    "        str: Output value measured from qubit 2.\n",
    "    \"\"\"\n",
    "    qc = QuantumCircuit(3, 1) \n",
    "    qc.reset(range(2))\n",
    "  \n",
    "    if inp1=='1':\n",
    "        qc.x(0)\n",
    "    if inp2=='1':\n",
    "        qc.x(1)\n",
    "        \n",
    "    qc.barrier()\n",
    "\n",
    "    # this is where your program for quantum AND gate goes\n",
    "\n",
    "    \n",
    "    \n",
    "    \n",
    "    \n",
    "    \n",
    "\n",
    "    qc.barrier()\n",
    "    qc.measure(2, 0) # output from qubit 2 is measured\n",
    "  \n",
    "    # We'll run the program on a simulator\n",
    "    backend = AerSimulator()\n",
    "    # Since the output will be deterministic, we can use just a single shot to get it\n",
    "    job = backend.run(qc, shots=1, memory=True)\n",
    "    output = job.result().get_memory()[0]\n",
    "  \n",
    "    return qc, output"
   ]
  },
  {
   "cell_type": "markdown",
   "id": "c61c97e7-4404-42c4-965c-04f3640583a6",
   "metadata": {},
   "source": [
    "## NAND Gate"
   ]
  },
  {
   "cell_type": "markdown",
   "id": "d3e13b35-c17b-45e1-b58d-de86e58e3da0",
   "metadata": {},
   "source": [
    "Please implement NAND gate.\n",
    "\n",
    "Takes two binary strings as input and gives one as output.\n",
    "\n",
    "The output is '0' only when both the inputs are '1'."
   ]
  },
  {
   "cell_type": "code",
   "execution_count": 7,
   "id": "a54f3e8c",
   "metadata": {},
   "outputs": [],
   "source": [
    "def NAND(inp1,inp2):\n",
    "    \"\"\"An NAND gate.\n",
    "    \n",
    "    Parameters:\n",
    "        inpt1 (str): Input 1, encoded in qubit 0.\n",
    "        inpt2 (str): Input 2, encoded in qubit 1.\n",
    "        \n",
    "    Returns:\n",
    "        QuantumCircuit: Output NAND circuit.\n",
    "        str: Output value measured from qubit 2.\n",
    "    \"\"\"\n",
    "    qc = QuantumCircuit(3, 1) \n",
    "    qc.reset(range(3))\n",
    "    \n",
    "    if inp1=='1':\n",
    "        qc.x(0)\n",
    "    if inp2=='1':\n",
    "        qc.x(1)\n",
    "    \n",
    "    qc.barrier()\n",
    "    \n",
    "    # this is where your program for quantum NAND gate goes\n",
    "\n",
    "\n",
    "    \n",
    "    \n",
    "    \n",
    "    \n",
    "    \n",
    "    qc.barrier()\n",
    "    qc.measure(2, 0) # output from qubit 2 is measured\n",
    "  \n",
    "    #We'll run the program on a simulator\n",
    "    backend = AerSimulator()\n",
    "    # Since the output will be deterministic, we can use just a single shot to get it\n",
    "    job = backend.run(qc,shots=1,memory=True)\n",
    "    output = job.result().get_memory()[0]\n",
    "  \n",
    "    return qc, output"
   ]
  },
  {
   "cell_type": "markdown",
   "id": "9bf94f2b-cf1f-41f2-86bd-abf1d3ae176b",
   "metadata": {},
   "source": [
    "## OR Gate"
   ]
  },
  {
   "cell_type": "markdown",
   "id": "8279a2fe-8fa8-4c57-b6ee-d3bed51ed45f",
   "metadata": {},
   "source": [
    "Please implement OR gate here."
   ]
  },
  {
   "cell_type": "code",
   "execution_count": 8,
   "id": "32a9ce02-d8a7-45b9-9661-8c92771f54bd",
   "metadata": {},
   "outputs": [],
   "source": [
    "def OR(inp1,inp2):\n",
    "    \"\"\"An OR gate.\n",
    "    \n",
    "    Parameters:\n",
    "        inpt1 (str): Input 1, encoded in qubit 0.\n",
    "        inpt2 (str): Input 2, encoded in qubit 1.\n",
    "        \n",
    "    Returns:\n",
    "        QuantumCircuit: Output XOR circuit.\n",
    "        str: Output value measured from qubit 2.\n",
    "    \"\"\"\n",
    "\n",
    "    qc = QuantumCircuit(3, 1) \n",
    "    qc.reset(range(3))\n",
    "    \n",
    "    if inp1=='1':\n",
    "        qc.x(0)\n",
    "    if inp2=='1':\n",
    "        qc.x(1)\n",
    "    \n",
    "    qc.barrier()\n",
    "   \n",
    "    # this is where your program for quantum OR gate goes\n",
    "\n",
    "\n",
    "    \n",
    "    \n",
    "    \n",
    "    \n",
    "    \n",
    "    qc.barrier()\n",
    "    qc.measure(2, 0) # output from qubit 2 is measured\n",
    "  \n",
    "    #We'll run the program on a simulator\n",
    "    backend = AerSimulator()\n",
    "    # Since the output will be deterministic, we can use just a single shot to get it\n",
    "    job = backend.run(qc,shots=1,memory=True)\n",
    "    output = job.result().get_memory()[0]\n",
    "  \n",
    "    return qc, output"
   ]
  },
  {
   "cell_type": "markdown",
   "id": "0abb6a4e-f342-4484-9b48-f1c2eb593897",
   "metadata": {},
   "source": [
    "You can copy the implementation to the file https://github.com/yezhuoyang/QuantumLab/blob/main/test/testlogic.py and then run local auto test by yourself! "
   ]
  },
  {
   "cell_type": "markdown",
   "id": "291812ba-23d1-43ea-8479-8c0075ea0a1e",
   "metadata": {},
   "source": [
    "## Part2: Running simulation on a fake noisy quantum computer"
   ]
  },
  {
   "cell_type": "markdown",
   "id": "af761a3f",
   "metadata": {},
   "source": [
    "Your next task is to execute the AND gate on a fake quantum computer and try to understand the effect of noise.  \n",
    "\n",
    "In Part 1 you made an AND gate from quantum gates, and executed it on the simulator. Here in Part 2 you will do it again, but instead run the circuits on a fake real quantum computer. One thing you should keep in mind is that present day quantum computers are not fault tolerant; they are noisy.\n",
    "\n",
    "The 'noise' in a quantum system is the collective effects of all the things that should not happen, but nevertheless do. Noise results in outputs are not always what we would expect. There is noise associated with all processes in a quantum circuit: preparing the initial state, applying gates, and qubit measurement. For the gates, noise levels can vary between different gates and between different qubits. cx gates are typically more noisy than any single qubit gate.\n",
    "\n",
    "Here we will use the quantum systems from the IBM Quantum Experience. If you do not have access, you can do so here.\n",
    "\n",
    "Now that you are ready to use the real quantum computer, let's begin.\n"
   ]
  },
  {
   "cell_type": "markdown",
   "id": "db603794-dab3-4e4b-9ded-24fbed875e95",
   "metadata": {},
   "source": [
    "### Step1: Setup fakebackend"
   ]
  },
  {
   "cell_type": "code",
   "execution_count": 143,
   "id": "8adc42fb-79ef-4cb3-ba9d-5d61da06d3b8",
   "metadata": {},
   "outputs": [],
   "source": [
    "from qiskit import QuantumCircuit, transpile\n",
    "from qiskit.providers.fake_provider import GenericBackendV2\n",
    "from qiskit.visualization import plot_histogram\n",
    "\n",
    "\n",
    "\n",
    "coupling_map=[[0, 4], [0, 2], [4, 2], [2, 3], [4, 1], [0, 5]]\n",
    "\n",
    "# Generate a 6-qubit simulated backend\n",
    "backend = GenericBackendV2(num_qubits=6,coupling_map=coupling_map)\n",
    "\n",
    "\n",
    "# Customize the noise level on each fake qubit.\n",
    "# Please don't modify it during your experiment\n",
    "backend.target['measure'][(0,)].error = 0.15\n",
    "backend.target['measure'][(4,)].error = 0.15\n",
    "backend.target['measure'][(2,)].error = 0.15\n",
    "\n",
    "for (i,j) in coupling_map:\n",
    "        backend.target['cx'][(i,j)].error = 0.1        \n",
    "  \n",
    "backend.target['measure'][(3,)].error = 0.3\n",
    "backend.target['measure'][(1,)].error = 0.3\n",
    "backend.target['measure'][(5,)].error = 0.3"
   ]
  },
  {
   "cell_type": "markdown",
   "id": "7d55a4b2-9e22-45e0-86c3-dea110cb5a46",
   "metadata": {},
   "source": [
    "### Step2: Define AND function for a fake quantum device"
   ]
  },
  {
   "cell_type": "markdown",
   "id": "0aada2e5-46c7-4dde-a309-09466f600377",
   "metadata": {},
   "source": [
    "#### Qiskit Transpiler"
   ]
  },
  {
   "cell_type": "markdown",
   "id": "bca96651-f752-4973-aff5-082e47ca8b61",
   "metadata": {},
   "source": [
    "It is important to know that when running a circuit on a real quantum computer, circuits typically need to be transpiled for the backend that you select so that the circuit contains only those gates that the quantum computer can actually perform. Primarily this involves the addition of swap gates so that two-qubit gates in the circuit map to those pairs of qubits on the device that can actually perform these gates. The following cell shows the AND gate represented as a Toffoli gate decomposed into single- and two-qubit gates, which are the only types of gate that can be run on IBM hardware."
   ]
  },
  {
   "cell_type": "code",
   "execution_count": 144,
   "id": "b566c362-6bbb-4d03-98ef-185c5641bcae",
   "metadata": {},
   "outputs": [
    {
     "name": "stdout",
     "output_type": "stream",
     "text": [
      "AND gate\n"
     ]
    },
    {
     "data": {
      "text/html": [
       "<pre style=\"word-wrap: normal;white-space: pre;background: #fff0;line-height: 1.1;font-family: &quot;Courier New&quot;,Courier,monospace\">          \n",
       "q_0: ──■──\n",
       "       │  \n",
       "q_1: ──■──\n",
       "     ┌─┴─┐\n",
       "q_2: ┤ X ├\n",
       "     └───┘</pre>"
      ],
      "text/plain": [
       "          \n",
       "q_0: ──■──\n",
       "       │  \n",
       "q_1: ──■──\n",
       "     ┌─┴─┐\n",
       "q_2: ┤ X ├\n",
       "     └───┘"
      ]
     },
     "metadata": {},
     "output_type": "display_data"
    },
    {
     "name": "stdout",
     "output_type": "stream",
     "text": [
      "\n",
      "\n",
      "Transpiled AND gate with all the required connectivity\n"
     ]
    },
    {
     "data": {
      "text/html": [
       "<pre style=\"word-wrap: normal;white-space: pre;background: #fff0;line-height: 1.1;font-family: &quot;Courier New&quot;,Courier,monospace\">                                                       ┌───┐      \n",
       "q_0: ───────────────────■─────────────────────■────■───┤ T ├───■──\n",
       "                        │             ┌───┐   │  ┌─┴─┐┌┴───┴┐┌─┴─┐\n",
       "q_1: ───────■───────────┼─────────■───┤ T ├───┼──┤ X ├┤ Tdg ├┤ X ├\n",
       "     ┌───┐┌─┴─┐┌─────┐┌─┴─┐┌───┐┌─┴─┐┌┴───┴┐┌─┴─┐├───┤└┬───┬┘└───┘\n",
       "q_2: ┤ H ├┤ X ├┤ Tdg ├┤ X ├┤ T ├┤ X ├┤ Tdg ├┤ X ├┤ T ├─┤ H ├──────\n",
       "     └───┘└───┘└─────┘└───┘└───┘└───┘└─────┘└───┘└───┘ └───┘      </pre>"
      ],
      "text/plain": [
       "                                                       ┌───┐      \n",
       "q_0: ───────────────────■─────────────────────■────■───┤ T ├───■──\n",
       "                        │             ┌───┐   │  ┌─┴─┐┌┴───┴┐┌─┴─┐\n",
       "q_1: ───────■───────────┼─────────■───┤ T ├───┼──┤ X ├┤ Tdg ├┤ X ├\n",
       "     ┌───┐┌─┴─┐┌─────┐┌─┴─┐┌───┐┌─┴─┐┌┴───┴┐┌─┴─┐├───┤└┬───┬┘└───┘\n",
       "q_2: ┤ H ├┤ X ├┤ Tdg ├┤ X ├┤ T ├┤ X ├┤ Tdg ├┤ X ├┤ T ├─┤ H ├──────\n",
       "     └───┘└───┘└─────┘└───┘└───┘└───┘└─────┘└───┘└───┘ └───┘      "
      ]
     },
     "execution_count": 144,
     "metadata": {},
     "output_type": "execute_result"
    }
   ],
   "source": [
    "qc_and = QuantumCircuit(3)\n",
    "qc_and.ccx(0,1,2)\n",
    "print('AND gate')\n",
    "display(qc_and.draw())\n",
    "print('\\n\\nTranspiled AND gate with all the required connectivity')\n",
    "qc_and.decompose().draw()"
   ]
  },
  {
   "cell_type": "markdown",
   "id": "a95c5816-d5da-43fe-92af-ae7a07865571",
   "metadata": {},
   "source": [
    "In addition, there are often optimizations that the transpiler can perform that reduce the overall gate count, and thus total length of the input circuits. Note that the addition of swaps to match the device topology, and optimizations for reducing the length of a circuit are at odds with each other. In what follows we will make use of initial_layout that allows us to pick the qubits on a device used for the computation and optimization_level, an argument that allows selecting from internal defaults for circuit swap mapping and optimization methods to perform.\n",
    "\n",
    "You can learn more about transpile function in depth here.\n",
    "\n",
    "Let's modify AND function in Part1 properly for the fake quantum system with the transpile step included."
   ]
  },
  {
   "cell_type": "code",
   "execution_count": 145,
   "id": "d1554b75-6b9d-4a53-a19b-a4fad94a667b",
   "metadata": {},
   "outputs": [],
   "source": [
    "# run the cell to define AND gate for real quantum system\n",
    "from qiskit.transpiler import Layout as Layout\n",
    "# The input layout should be a dictionary:\n",
    "# For example, if you want to map abtract qubit 0 to physical qubit 0,\n",
    "# abtract qubit 1 to physical qubit 1, abtract qubit 2 to physical qubit 2,\n",
    "# The input should be layout={0:0,1:1,2:2}\n",
    "def AND(inp1, inp2, backend, layout:dict):\n",
    "    \n",
    "    qc = QuantumCircuit(3, 1) \n",
    "    qc.reset(range(3))\n",
    "    \n",
    "    if inp1=='1':\n",
    "        qc.x(0)\n",
    "    if inp2=='1':\n",
    "        qc.x(1)\n",
    "        \n",
    "    qc.barrier()\n",
    "    qc.ccx(0, 1, 2) \n",
    "    qc.barrier()\n",
    "    qc.measure(2, 0) \n",
    "\n",
    "    initial_layout_dict={}\n",
    "    for key in layout.keys():\n",
    "        initial_layout_dict[qc.qubits[key]]=layout[key]\n",
    "\n",
    "    \n",
    "    qc_trans = transpile(qc, backend, initial_layout=initial_layout_dict, optimization_level=3)\n",
    "    job = backend.run(qc_trans, shots=8192)\n",
    " \n",
    "    output = job.result().get_counts()\n",
    "    \n",
    "    return qc_trans, output"
   ]
  },
  {
   "cell_type": "code",
   "execution_count": 146,
   "id": "d697816e-0589-4ed7-a044-cefca1638a3e",
   "metadata": {},
   "outputs": [
    {
     "data": {
      "text/plain": [
       "<qiskit.providers.fake_provider.generic_backend_v2.GenericBackendV2 at 0x1602c6b0850>"
      ]
     },
     "execution_count": 146,
     "metadata": {},
     "output_type": "execute_result"
    }
   ],
   "source": [
    "backend"
   ]
  },
  {
   "cell_type": "markdown",
   "id": "c4272707-0f74-4c4b-9e3f-a63a501e0f81",
   "metadata": {},
   "source": [
    "####  Your task: Determine three qubit initial layout considering the error map and assign it to the list variable layout2."
   ]
  },
  {
   "cell_type": "code",
   "execution_count": 147,
   "id": "1032c1c6-912b-4497-a82c-1a6c5dcfbcb5",
   "metadata": {},
   "outputs": [],
   "source": [
    "\n",
    "from qiskit import QuantumRegister"
   ]
  },
  {
   "cell_type": "code",
   "execution_count": 148,
   "id": "aefbf6c5-f5d4-4993-8c15-cde4e76b0b9a",
   "metadata": {},
   "outputs": [
    {
     "data": {
      "text/plain": [
       "Layout({\n",
       "2: Qubit(QuantumRegister(3, 'q'), 0),\n",
       "0: Qubit(QuantumRegister(3, 'q'), 1),\n",
       "1: Qubit(QuantumRegister(3, 'q'), 2)\n",
       "})"
      ]
     },
     "execution_count": 148,
     "metadata": {},
     "output_type": "execute_result"
    }
   ],
   "source": [
    "qc=QuantumCircuit(3)\n",
    "Layout({\n",
    "    qc.qubits[0]: 2,\n",
    "    qc.qubits[1]: 0,\n",
    "    qc.qubits[2]: 1,\n",
    "})"
   ]
  },
  {
   "cell_type": "code",
   "execution_count": 149,
   "id": "d6e21715-306a-4660-85f4-297314eaad76",
   "metadata": {},
   "outputs": [
    {
     "data": {
      "image/png": "[encoded data removed]",
      "text/plain": [
       "<Figure size 361.1x332.35 with 1 Axes>"
      ]
     },
     "execution_count": 149,
     "metadata": {},
     "output_type": "execute_result"
    }
   ],
   "source": [
    "from qiskit.visualization import plot_circuit_layout\n",
    "plot_circuit_layout(transpiled_circuit,backend,view=\"physical\")   \n",
    "# Save the figure to a file, e.g., as 'layout.png'"
   ]
  },
  {
   "cell_type": "code",
   "execution_count": 150,
   "id": "8e5ee50c-72f9-4f9e-b2ee-a71e463b13ae",
   "metadata": {},
   "outputs": [
    {
     "name": "stdout",
     "output_type": "stream",
     "text": [
      "\n",
      "Probability of correct answer for inputs 0 0\n",
      "0.70\n",
      "---------------------------------\n",
      "\n",
      "Probability of correct answer for inputs 0 1\n",
      "0.70\n",
      "---------------------------------\n",
      "\n",
      "Probability of correct answer for inputs 1 0\n",
      "0.69\n",
      "---------------------------------\n",
      "\n",
      "Probability of correct answer for inputs 1 1\n",
      "0.70\n",
      "---------------------------------\n",
      "\n",
      "\n",
      "The highest of these probabilities was 0.70\n",
      "The lowest of these probabilities was 0.69\n"
     ]
    }
   ],
   "source": [
    "output_all = []\n",
    "qc_trans_all = []\n",
    "prob_all = []\n",
    "layout=None\n",
    "worst = 1\n",
    "best = 0\n",
    "layout={0:0,1:4,2:2}\n",
    "for input1 in ['0','1']:\n",
    "    for input2 in ['0','1']:\n",
    "        qc_trans, output = AND(input1, input2, backend, layout)\n",
    "        \n",
    "        output_all.append(output)\n",
    "        qc_trans_all.append(qc_trans)\n",
    "        \n",
    "        prob = output[str(int( input1=='1' and input2=='1' ))]/8192\n",
    "        prob_all.append(prob)\n",
    "        \n",
    "        print('\\nProbability of correct answer for inputs',input1,input2)\n",
    "        print('{:.2f}'.format(prob) )\n",
    "        print('---------------------------------')\n",
    "        \n",
    "        worst = min(worst,prob)\n",
    "        best = max(best, prob)\n",
    "        \n",
    "print('')\n",
    "print('\\nThe highest of these probabilities was {:.2f}'.format(best))\n",
    "print('The lowest of these probabilities was {:.2f}'.format(worst))"
   ]
  },
  {
   "cell_type": "code",
   "execution_count": 151,
   "id": "a511ac95-9daa-406b-b891-1db9b05138cb",
   "metadata": {},
   "outputs": [],
   "source": [
    "qc = QuantumCircuit(3, 1) \n",
    "qc.reset(range(3))\n",
    "inp1='1'\n",
    "inp2='1'\n",
    "if inp1=='1':\n",
    "    qc.x(0)\n",
    "if inp2=='1':\n",
    "    qc.x(1)\n",
    "    \n",
    "qc.barrier()\n",
    "qc.ccx(0, 1, 2) \n",
    "qc.barrier()\n",
    "qc.measure(2, 0) \n",
    "\n",
    "layout=Layout({\n",
    "    qc.qubits[0]: 5,\n",
    "    qc.qubits[1]: 0,\n",
    "    qc.qubits[2]: 4,\n",
    "})\n",
    "\n",
    "qc_trans = transpile(qc, backend, initial_layout=layout, optimization_level=3)\n",
    "job = backend.run(qc_trans, shots=8192)\n",
    "\n",
    "output = job.result().get_counts()\n",
    "\n"
   ]
  },
  {
   "cell_type": "code",
   "execution_count": 152,
   "id": "7c8cb341-9649-43d4-8769-711a545fe58c",
   "metadata": {},
   "outputs": [
    {
     "data": {
      "image/png": "[encoded data removed]",
      "text/plain": [
       "<Figure size 361.1x332.35 with 1 Axes>"
      ]
     },
     "execution_count": 152,
     "metadata": {},
     "output_type": "execute_result"
    }
   ],
   "source": [
    "from qiskit.visualization import plot_circuit_layout\n",
    "plot_circuit_layout(qc_trans,backend,view=\"physical\")   \n",
    "# Save the figure to a file, e.g., as 'layout.png'"
   ]
  },
  {
   "cell_type": "code",
   "execution_count": null,
   "id": "a68c1865-dabd-460d-a04c-ab8392ea38c1",
   "metadata": {},
   "outputs": [],
   "source": []
  },
  {
   "cell_type": "code",
   "execution_count": null,
   "id": "3cc00dc5-5acf-48b8-9baf-da113f11ee6c",
   "metadata": {},
   "outputs": [],
   "source": []
  }
 ],
 "metadata": {
  "kernelspec": {
   "display_name": "Python 3 (ipykernel)",
   "language": "python",
   "name": "python3"
  },
  "language_info": {
   "codemirror_mode": {
    "name": "ipython",
    "version": 3
   },
   "file_extension": ".py",
   "mimetype": "text/x-python",
   "name": "python",
   "nbconvert_exporter": "python",
   "pygments_lexer": "ipython3",
   "version": "3.11.1"
  }
 },
 "nbformat": 4,
 "nbformat_minor": 5
}
