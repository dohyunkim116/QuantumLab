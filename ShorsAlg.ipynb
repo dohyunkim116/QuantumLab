{
 "cells": [
  {
   "cell_type": "markdown",
   "id": "c4e00f32",
   "metadata": {},
   "source": [
    "# Qiskit Lab3"
   ]
  },
  {
   "cell_type": "code",
   "execution_count": 1,
   "id": "a43b209c",
   "metadata": {},
   "outputs": [],
   "source": [
    "from qiskit import *\n",
    "from qiskit_aer import AerSimulator\n",
    "import numpy as np\n",
    "from qiskit.visualization import plot_histogram\n",
    "import matplotlib.pyplot as plt"
   ]
  },
  {
   "cell_type": "markdown",
   "id": "26a27138-f90d-489d-b84e-5b25c4aa943b",
   "metadata": {},
   "source": [
    "## Part 1: Quantum circuit for Shor's algorithm"
   ]
  },
  {
   "cell_type": "markdown",
   "id": "2e0c0b1c-8ed4-4141-8290-226a9e0949a2",
   "metadata": {},
   "source": [
    "Construct a compiled version of quantum circuit for Shor's algorithm.\n",
    "\n",
    "Shor's algorithm consists of the following steps; choose a co-prime \n",
    "$a$, where $a \\in [2,N-1]$ and the greatest common divisor of  $a$ and $N$ is 1, find the order of $a$ modulo $N$, the smallest integer $r$\n",
    "such that $a^r \\mod N=1$, and then obtain the factor of $N$ by computing the greatst common divisor of $a^{r/2} \\pm 1$ and $N$. In this procedure, the second step, finding the order of $a$ modulo $N$, is the only quantum part, quantum order-finding.\n",
    "\n",
    "In Ch.3.9 Shor's Algorithm, we built a quantum circuit to find the order for $a=7$ and $N=15$. However, as we are very well aware by now, such a large depth circuit is not practical to run on near-term quantum systems due to the presence of noise. Here in part 1 of this lab, we construct a practical quantum circuit for the same example, which could generate a meaningful solution when executed on today's quantum computers.\n",
    "\n",
    "In general, the quantum order-finding circuit to factorize the number $N$ requires $m=\\log_2(N)$ qubits in the computational (auxiliary) register and \n",
    "$2m(=t)$ qubit in the period (counting) registers .i.e. total $3m$ qubits, at minimum. Therefore, $12$ qubits were used in the quantum circuit to factorize the number 15 in Ch.3.9 Shor's Algorithm. In addition, the cotrolled unitary operator for the modular function, $f(x)=a^{x} \\mod N$ was applied in a cascading manner as shown in the figure below to produce the highly entangled state $\\sum_{x=0}^{2^m-1}\\ket{x}\\ket{a^x \\mod N}$, which increseas the circuit depth substantially. However the size of the circuit can be reduced based on several observations."
   ]
  },
  {
   "cell_type": "markdown",
   "id": "244e104d-ed37-4176-96f5-7e148034fab4",
   "metadata": {},
   "source": [
    "![title](Figure/L7_Circ_gen.svg)"
   ]
  },
  {
   "cell_type": "markdown",
   "id": "8bee57b4-1edb-415e-b04f-bfb44e9b3538",
   "metadata": {},
   "source": [
    "### 1.Remove redundancy"
   ]
  },
  {
   "cell_type": "markdown",
   "id": "ff091365-5757-42f0-81db-dbec38c2ebf0",
   "metadata": {},
   "source": [
    "### StepA:  Run the following cell to create the gate $U$ for the function $7\\mod15$.\n",
    "The unitary operator $U$ is defined as $U\\ket{x}\\equiv \\ket{7x(\\mod 15)}$"
   ]
  },
  {
   "cell_type": "code",
   "execution_count": 2,
   "id": "f1ec3e2c",
   "metadata": {},
   "outputs": [],
   "source": [
    "## Create 7mod15 gate\n",
    "N = 15\n",
    "m = int(np.ceil(np.log2(N)))\n",
    "\n",
    "U_qc = QuantumCircuit(m)\n",
    "U_qc.x(range(m))\n",
    "U_qc.swap(1, 2)\n",
    "U_qc.swap(2, 3)\n",
    "U_qc.swap(0, 3)\n",
    "\n",
    "U = U_qc.to_gate()\n",
    "U.name ='{}Mod{}'.format(7, N)"
   ]
  },
  {
   "cell_type": "markdown",
   "id": "fbd0644f-8774-49cb-a09d-8db5fd381ecf",
   "metadata": {},
   "source": [
    "Confirm if the unitary operator works properly by creating a quantum circuit with $m$ qubits. Prepare the input state representing any integer between 0 and 15 (exclusive) such as $\\ket{1}(=\\ket{0001})$, $\\ket{5}(=\\ket{0101})$, $\\ket{13}(=\\ket{0101})$ etc, and apply $U$ gate on it. Check if the circuit produces the expected outcomes for several inputs. The outcome state for the input $\\ket{1}$ should be $\\ket{7}(=\\ket{0111})$ and \n",
    " $\\ket{1}$ for the input $\\ket{13}$, for example."
   ]
  },
  {
   "cell_type": "code",
   "execution_count": 3,
   "id": "cb9b916f-951e-461b-89a5-ae7ca651111d",
   "metadata": {},
   "outputs": [],
   "source": [
    "## Your code here"
   ]
  },
  {
   "cell_type": "markdown",
   "id": "be06fff3-e66e-4248-85d6-14351195f2f0",
   "metadata": {},
   "source": [
    "### StepB:  Create a quantum circuit with $m$ qubits implementing $U$ gate $4=2^2$ times and run it on the unitary_simulator to obtain the matrix resprentation of the gates in the circuit. Verify $U^{2^2}=I$\n"
   ]
  },
  {
   "cell_type": "markdown",
   "id": "b4fbbd68-71d9-4a04-a247-9b4bcae8a409",
   "metadata": {},
   "source": [
    "As shown in the above figure, modular exponentiation is realized by implementing the controlled unitary operator on each qubit \n",
    "$2^n$ times in series when $n$ goes from $0$ to $7$ for our example. However, we will find out that whole sets of operations are redundant when \n",
    "$n>1$ for $7\\mod15$ case, hence the redundant operation can be removed from the circuit."
   ]
  },
  {
   "cell_type": "code",
   "execution_count": 4,
   "id": "16f50617-8509-4d90-8ea7-9906e95ab73b",
   "metadata": {},
   "outputs": [],
   "source": [
    "## Your code here"
   ]
  },
  {
   "cell_type": "markdown",
   "id": "422986fb-450e-402f-8cda-4dc0de9cb6a3",
   "metadata": {},
   "source": [
    "### StepC: Run the cells below to see the reduced circuit, shor_QPE, and execute it on the qasm_simulator to check if it reproduce the estimated phases in the Qiskit textbook https://github.com/Qiskit/textbook/blob/main/notebooks/ch-algorithms/quantum-phase-estimation.ipynb"
   ]
  },
  {
   "cell_type": "code",
   "execution_count": null,
   "id": "9cff5ecc-9c60-4875-a503-795cafa36e58",
   "metadata": {},
   "outputs": [],
   "source": [
    "def cU_multi(k):\n",
    "    circ = QuantumCircuit(m)\n",
    "    for _ in range(2**k):\n",
    "        circ.append(U, range(m))\n",
    "    \n",
    "    U_multi = circ.to_gate()\n",
    "    U_multi.name = '7Mod15_[2^{}]'.format(k)\n",
    "    \n",
    "    cU_multi = U_multi.control()\n",
    "    return cU_multi"
   ]
  },
  {
   "cell_type": "code",
   "execution_count": null,
   "id": "33e62f96-2634-447f-9546-30b7b295b84c",
   "metadata": {},
   "outputs": [],
   "source": [
    "def qft(n):\n",
    "    \"\"\"Creates an n-qubit QFT circuit\"\"\"\n",
    "    circuit = QuantumCircuit(n)\n",
    "    def swap_registers(circuit, n):\n",
    "        for qubit in range(n//2):\n",
    "            circuit.swap(qubit, n-qubit-1)\n",
    "        return circuit\n",
    "    def qft_rotations(circuit, n):\n",
    "        \"\"\"Performs qft on the first n qubits in circuit (without swaps)\"\"\"\n",
    "        if n == 0:\n",
    "            return circuit\n",
    "        n -= 1\n",
    "        circuit.h(n)\n",
    "        for qubit in range(n):\n",
    "            circuit.cp(np.pi/2**(n-qubit), qubit, n)\n",
    "        qft_rotations(circuit, n)\n",
    "    \n",
    "    qft_rotations(circuit, n)\n",
    "    swap_registers(circuit, n)\n",
    "    return circuit"
   ]
  },
  {
   "cell_type": "code",
   "execution_count": null,
   "id": "183a6411-edd3-4044-a941-92e76d3385d7",
   "metadata": {},
   "outputs": [],
   "source": [
    "# QPE circuit for Shor\n",
    "t = 3 \n",
    "shor_QPE = QuantumCircuit(t+m, t)\n",
    "shor_QPE.h(range(t))\n",
    "\n",
    "shor_QPE.x(t)\n",
    "for idx in range(t-1):\n",
    "    shor_QPE.append(cU_multi(idx), [idx]+ list(range(t,t+m)))\n",
    "\n",
    "qft_dag = qft(t).inverse()\n",
    "qft_dag.name = 'QFT+'\n",
    "\n",
    "shor_QPE.append(qft_dag, range(t))\n",
    "shor_QPE.measure(range(t), range(t))\n",
    "\n",
    "shor_QPE.draw()"
   ]
  },
  {
   "cell_type": "code",
   "execution_count": null,
   "id": "7f440fcc-21e9-41fb-8358-2b4537d0414a",
   "metadata": {},
   "outputs": [],
   "source": [
    "count_QPE = execute(shor_QPE, sim, shots=shots).result().get_counts()\n",
    "key_new = [str(int(key,2)/2**3) for key in count_QPE.keys()]\n",
    "count_new_QPE = dict(zip(key_new, count_QPE.values()))\n",
    "plot_histogram(count_new_QPE)"
   ]
  },
  {
   "cell_type": "markdown",
   "id": "7435713f-636f-46af-864c-25022e78c97d",
   "metadata": {},
   "source": [
    "## Part 2: Noisy simulation of the quantum order-finding circuits."
   ]
  },
  {
   "cell_type": "markdown",
   "id": "9b783d04-bfae-415a-84f5-1676eae993d8",
   "metadata": {},
   "source": [
    "Goal\n",
    "\n",
    "Perform the noise simulaton of all three quantum order-finding circuits: the one in Qiskit textbook, compiled version of QPE circuit in the first section of Part1 , compiled version of IPE circuit in Part 1. Compare their results.\n",
    "\n",
    "In part 1, we constructed the compiled version of the circuit for shor's algorithm; removed the redundant gates and optimized it further by implementing IPE algorithm that we learned in the previous lab, Lab6. In part 2, we inspect how each optimization plays a role to improved the outcomes by comparing their noise simulation results.\n",
    "\n",
    "Run the following cells to construct the shor's circuit in Qiskit texbook Ch.3.9 Shor's Algorithm, 'shor_Orig',and to obtain its simulation result."
   ]
  },
  {
   "cell_type": "code",
   "execution_count": null,
   "id": "01142a1a-1171-4bda-a494-05b461a69e71",
   "metadata": {},
   "outputs": [],
   "source": [
    "m=-1 # Specify your m\n",
    "t = 2*m\n",
    "\n",
    "shor_Orig = QuantumCircuit(t+m, t)\n",
    "shor_Orig.h(range(t))\n",
    "\n",
    "shor_Orig.x(t)\n",
    "for idx in range(t):\n",
    "    shor_Orig.append(cU_multi(idx), [idx]+ list(range(t,t+m)))\n",
    "\n",
    "qft_dag = qft(t).inverse()\n",
    "qft_dag.name = 'QFT+'\n",
    "\n",
    "shor_Orig.append(qft_dag, range(t))\n",
    "shor_Orig.measure(range(t), range(t))\n",
    "    \n",
    "shor_Orig.draw()"
   ]
  },
  {
   "cell_type": "code",
   "execution_count": null,
   "id": "2c875803-824d-444f-b23a-90d26da40d58",
   "metadata": {},
   "outputs": [],
   "source": [
    "count_Orig = execute(shor_Orig, sim, shots=shots).result().get_counts()\n",
    "key_new = [str(int(key,2)/2**t) for key in count_Orig.keys()]\n",
    "count_new_Orig = dict(zip(key_new, count_Orig.values()))\n",
    "plot_histogram(count_new_Orig, title='textbook circuit simulation result No noise')"
   ]
  },
  {
   "cell_type": "markdown",
   "id": "7d84ca8a-ab7d-4cde-b193-0dbb70f14faa",
   "metadata": {},
   "source": [
    "Perform the noise simulations of all three circuits, shor_Orig, shor_QPE, shor_IPE on the backend FakeMelbourne and plot their noise simulation results together with ones without noise for comparison.\n",
    "Run the following cell."
   ]
  },
  {
   "cell_type": "code",
   "execution_count": null,
   "id": "26dc152f-c162-4bf4-824b-f60b03ad0f0f",
   "metadata": {},
   "outputs": [],
   "source": [
    "from qiskit.providers.fake_provider import FakeMelbourne\n",
    "backend = FakeMelbourne()\n",
    "shots=8192"
   ]
  },
  {
   "cell_type": "markdown",
   "id": "10671e91-2f13-4b90-9aed-9ed0a07f85b2",
   "metadata": {},
   "source": [
    "The comparison plot of the simulation results with/without noise for the textbook circuit shor_Orig is given below. The code is there to show how the result is generated but not recommended to run as it takes for long time."
   ]
  },
  {
   "cell_type": "code",
   "execution_count": null,
   "id": "2740a71c-e21b-400e-8df9-72b9c0c6a4c4",
   "metadata": {},
   "outputs": [],
   "source": []
  }
 ],
 "metadata": {
  "kernelspec": {
   "display_name": "Python 3 (ipykernel)",
   "language": "python",
   "name": "python3"
  },
  "language_info": {
   "codemirror_mode": {
    "name": "ipython",
    "version": 3
   },
   "file_extension": ".py",
   "mimetype": "text/x-python",
   "name": "python",
   "nbconvert_exporter": "python",
   "pygments_lexer": "ipython3",
   "version": "3.11.0"
  }
 },
 "nbformat": 4,
 "nbformat_minor": 5
}
