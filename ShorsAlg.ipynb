{
 "cells": [
  {
   "cell_type": "markdown",
   "id": "c4e00f32",
   "metadata": {},
   "source": [
    "# Qiskit Lab3"
   ]
  },
  {
   "cell_type": "code",
   "execution_count": 41,
   "id": "a43b209c",
   "metadata": {},
   "outputs": [
    {
     "ename": "ImportError",
     "evalue": "cannot import name 'execute' from 'qiskit' (c:\\Users\\73747\\Documents\\GitHub\\IBMLab\\IBMLabVenv\\Lib\\site-packages\\qiskit\\__init__.py)",
     "output_type": "error",
     "traceback": [
      "\u001b[1;31m---------------------------------------------------------------------------\u001b[0m",
      "\u001b[1;31mImportError\u001b[0m                               Traceback (most recent call last)",
      "Cell \u001b[1;32mIn[41], line 1\u001b[0m\n\u001b[1;32m----> 1\u001b[0m \u001b[38;5;28;01mfrom\u001b[39;00m \u001b[38;5;21;01mqiskit\u001b[39;00m \u001b[38;5;28;01mimport\u001b[39;00m QuantumCircuit, execute\n\u001b[0;32m      2\u001b[0m \u001b[38;5;28;01mfrom\u001b[39;00m \u001b[38;5;21;01mqiskit_aer\u001b[39;00m \u001b[38;5;28;01mimport\u001b[39;00m AerSimulator\n\u001b[0;32m      3\u001b[0m \u001b[38;5;28;01mfrom\u001b[39;00m \u001b[38;5;21;01mqiskit\u001b[39;00m\u001b[38;5;21;01m.\u001b[39;00m\u001b[38;5;21;01mvisualization\u001b[39;00m \u001b[38;5;28;01mimport\u001b[39;00m \u001b[38;5;241m*\u001b[39m\n",
      "\u001b[1;31mImportError\u001b[0m: cannot import name 'execute' from 'qiskit' (c:\\Users\\73747\\Documents\\GitHub\\IBMLab\\IBMLabVenv\\Lib\\site-packages\\qiskit\\__init__.py)"
     ]
    }
   ],
   "source": [
    "from qiskit import QuantumCircuit\n",
    "from qiskit_aer import AerSimulator\n",
    "from qiskit.visualization import *\n",
    "import numpy as np\n",
    "m=3"
   ]
  },
  {
   "cell_type": "code",
   "execution_count": 30,
   "id": "f1ec3e2c",
   "metadata": {},
   "outputs": [],
   "source": [
    "## Create 7mod15 gate\n",
    "N = 15\n",
    "m = int(np.ceil(np.log2(N)))\n",
    "\n",
    "U_qc = QuantumCircuit(m)\n",
    "U_qc.x(range(m))\n",
    "U_qc.swap(1, 2)\n",
    "U_qc.swap(2, 3)\n",
    "U_qc.swap(0, 3)\n",
    "\n",
    "U = U_qc.to_gate()\n",
    "U.name ='{}Mod{}'.format(7, N)"
   ]
  },
  {
   "cell_type": "code",
   "execution_count": 31,
   "id": "ac3daec9",
   "metadata": {},
   "outputs": [],
   "source": [
    "def cU_multi(k):\n",
    "    circ = QuantumCircuit(m)\n",
    "    for _ in range(2**k):\n",
    "        circ.append(U, range(m))\n",
    "    \n",
    "    U_multi = circ.to_gate()\n",
    "    U_multi.name = '7Mod15_[2^{}]'.format(k)\n",
    "    \n",
    "    cU_multi = U_multi.control()\n",
    "    return cU_multi"
   ]
  },
  {
   "cell_type": "code",
   "execution_count": 32,
   "id": "b0f53872",
   "metadata": {},
   "outputs": [],
   "source": [
    "def qft(n):\n",
    "    \"\"\"Creates an n-qubit QFT circuit\"\"\"\n",
    "    circuit = QuantumCircuit(n)\n",
    "    def swap_registers(circuit, n):\n",
    "        for qubit in range(n//2):\n",
    "            circuit.swap(qubit, n-qubit-1)\n",
    "        return circuit\n",
    "    def qft_rotations(circuit, n):\n",
    "        \"\"\"Performs qft on the first n qubits in circuit (without swaps)\"\"\"\n",
    "        if n == 0:\n",
    "            return circuit\n",
    "        n -= 1\n",
    "        circuit.h(n)\n",
    "        for qubit in range(n):\n",
    "            circuit.cp(np.pi/2**(n-qubit), qubit, n)\n",
    "        qft_rotations(circuit, n)\n",
    "    \n",
    "    qft_rotations(circuit, n)\n",
    "    swap_registers(circuit, n)\n",
    "    return circuit"
   ]
  },
  {
   "cell_type": "code",
   "execution_count": 33,
   "id": "008ffce0",
   "metadata": {},
   "outputs": [
    {
     "data": {
      "text/html": [
       "<pre style=\"word-wrap: normal;white-space: pre;background: #fff0;line-height: 1.1;font-family: &quot;Courier New&quot;,Courier,monospace\">     ┌───┐                                  ┌───────┐┌─┐      \n",
       "q_0: ┤ H ├────────■─────────────────────────┤0      ├┤M├──────\n",
       "     ├───┤        │                         │       │└╥┘┌─┐   \n",
       "q_1: ┤ H ├────────┼────────────────■────────┤1 QFT+ ├─╫─┤M├───\n",
       "     ├───┤        │                │        │       │ ║ └╥┘┌─┐\n",
       "q_2: ┤ H ├────────┼────────────────┼────────┤2      ├─╫──╫─┤M├\n",
       "     ├───┤┌───────┴───────┐┌───────┴───────┐└───────┘ ║  ║ └╥┘\n",
       "q_3: ┤ X ├┤0              ├┤0              ├──────────╫──╫──╫─\n",
       "     └───┘│               ││               │          ║  ║  ║ \n",
       "q_4: ─────┤1              ├┤1              ├──────────╫──╫──╫─\n",
       "          │  7Mod15_[2^0] ││  7Mod15_[2^1] │          ║  ║  ║ \n",
       "q_5: ─────┤2              ├┤2              ├──────────╫──╫──╫─\n",
       "          │               ││               │          ║  ║  ║ \n",
       "q_6: ─────┤3              ├┤3              ├──────────╫──╫──╫─\n",
       "          └───────────────┘└───────────────┘          ║  ║  ║ \n",
       "c: 3/═════════════════════════════════════════════════╩══╩══╩═\n",
       "                                                      0  1  2 </pre>"
      ],
      "text/plain": [
       "     ┌───┐                                  ┌───────┐┌─┐      \n",
       "q_0: ┤ H ├────────■─────────────────────────┤0      ├┤M├──────\n",
       "     ├───┤        │                         │       │└╥┘┌─┐   \n",
       "q_1: ┤ H ├────────┼────────────────■────────┤1 QFT+ ├─╫─┤M├───\n",
       "     ├───┤        │                │        │       │ ║ └╥┘┌─┐\n",
       "q_2: ┤ H ├────────┼────────────────┼────────┤2      ├─╫──╫─┤M├\n",
       "     ├───┤┌───────┴───────┐┌───────┴───────┐└───────┘ ║  ║ └╥┘\n",
       "q_3: ┤ X ├┤0              ├┤0              ├──────────╫──╫──╫─\n",
       "     └───┘│               ││               │          ║  ║  ║ \n",
       "q_4: ─────┤1              ├┤1              ├──────────╫──╫──╫─\n",
       "          │  7Mod15_[2^0] ││  7Mod15_[2^1] │          ║  ║  ║ \n",
       "q_5: ─────┤2              ├┤2              ├──────────╫──╫──╫─\n",
       "          │               ││               │          ║  ║  ║ \n",
       "q_6: ─────┤3              ├┤3              ├──────────╫──╫──╫─\n",
       "          └───────────────┘└───────────────┘          ║  ║  ║ \n",
       "c: 3/═════════════════════════════════════════════════╩══╩══╩═\n",
       "                                                      0  1  2 "
      ]
     },
     "execution_count": 33,
     "metadata": {},
     "output_type": "execute_result"
    }
   ],
   "source": [
    "# QPE circuit for Shor\n",
    "t = 3 \n",
    "shor_QPE = QuantumCircuit(t+m, t)\n",
    "shor_QPE.h(range(t))\n",
    "\n",
    "shor_QPE.x(t)\n",
    "for idx in range(t-1):\n",
    "    shor_QPE.append(cU_multi(idx), [idx]+ list(range(t,t+m)))\n",
    "\n",
    "qft_dag = qft(t).inverse()\n",
    "qft_dag.name = 'QFT+'\n",
    "\n",
    "shor_QPE.append(qft_dag, range(t))\n",
    "shor_QPE.measure(range(t), range(t))\n",
    "\n",
    "shor_QPE.draw()"
   ]
  },
  {
   "cell_type": "code",
   "execution_count": 34,
   "id": "a8d1c99a",
   "metadata": {},
   "outputs": [],
   "source": [
    "def cU_multi(k):\n",
    "    circ = QuantumCircuit(m)\n",
    "    for _ in range(2**k):\n",
    "        circ.append(U, range(m))\n",
    "    \n",
    "    U_multi = circ.to_gate()\n",
    "    U_multi.name = '7Mod15_[2^{}]'.format(k)\n",
    "    \n",
    "    cU_multi = U_multi.control()\n",
    "    return cU_multi"
   ]
  },
  {
   "cell_type": "code",
   "execution_count": 35,
   "id": "e0ff89bc",
   "metadata": {},
   "outputs": [],
   "source": [
    "def qft(n):\n",
    "    \"\"\"Creates an n-qubit QFT circuit\"\"\"\n",
    "    circuit = QuantumCircuit(n)\n",
    "    def swap_registers(circuit, n):\n",
    "        for qubit in range(n//2):\n",
    "            circuit.swap(qubit, n-qubit-1)\n",
    "        return circuit\n",
    "    def qft_rotations(circuit, n):\n",
    "        \"\"\"Performs qft on the first n qubits in circuit (without swaps)\"\"\"\n",
    "        if n == 0:\n",
    "            return circuit\n",
    "        n -= 1\n",
    "        circuit.h(n)\n",
    "        for qubit in range(n):\n",
    "            circuit.cp(np.pi/2**(n-qubit), qubit, n)\n",
    "        qft_rotations(circuit, n)\n",
    "    \n",
    "    qft_rotations(circuit, n)\n",
    "    swap_registers(circuit, n)\n",
    "    return circuit"
   ]
  },
  {
   "cell_type": "code",
   "execution_count": 36,
   "id": "5ce122f5",
   "metadata": {},
   "outputs": [
    {
     "data": {
      "text/html": [
       "<pre style=\"word-wrap: normal;white-space: pre;background: #fff0;line-height: 1.1;font-family: &quot;Courier New&quot;,Courier,monospace\">     ┌───┐                                  ┌───────┐┌─┐      \n",
       "q_0: ┤ H ├────────■─────────────────────────┤0      ├┤M├──────\n",
       "     ├───┤        │                         │       │└╥┘┌─┐   \n",
       "q_1: ┤ H ├────────┼────────────────■────────┤1 QFT+ ├─╫─┤M├───\n",
       "     ├───┤        │                │        │       │ ║ └╥┘┌─┐\n",
       "q_2: ┤ H ├────────┼────────────────┼────────┤2      ├─╫──╫─┤M├\n",
       "     ├───┤┌───────┴───────┐┌───────┴───────┐└───────┘ ║  ║ └╥┘\n",
       "q_3: ┤ X ├┤0              ├┤0              ├──────────╫──╫──╫─\n",
       "     └───┘│               ││               │          ║  ║  ║ \n",
       "q_4: ─────┤1              ├┤1              ├──────────╫──╫──╫─\n",
       "          │  7Mod15_[2^0] ││  7Mod15_[2^1] │          ║  ║  ║ \n",
       "q_5: ─────┤2              ├┤2              ├──────────╫──╫──╫─\n",
       "          │               ││               │          ║  ║  ║ \n",
       "q_6: ─────┤3              ├┤3              ├──────────╫──╫──╫─\n",
       "          └───────────────┘└───────────────┘          ║  ║  ║ \n",
       "c: 3/═════════════════════════════════════════════════╩══╩══╩═\n",
       "                                                      0  1  2 </pre>"
      ],
      "text/plain": [
       "     ┌───┐                                  ┌───────┐┌─┐      \n",
       "q_0: ┤ H ├────────■─────────────────────────┤0      ├┤M├──────\n",
       "     ├───┤        │                         │       │└╥┘┌─┐   \n",
       "q_1: ┤ H ├────────┼────────────────■────────┤1 QFT+ ├─╫─┤M├───\n",
       "     ├───┤        │                │        │       │ ║ └╥┘┌─┐\n",
       "q_2: ┤ H ├────────┼────────────────┼────────┤2      ├─╫──╫─┤M├\n",
       "     ├───┤┌───────┴───────┐┌───────┴───────┐└───────┘ ║  ║ └╥┘\n",
       "q_3: ┤ X ├┤0              ├┤0              ├──────────╫──╫──╫─\n",
       "     └───┘│               ││               │          ║  ║  ║ \n",
       "q_4: ─────┤1              ├┤1              ├──────────╫──╫──╫─\n",
       "          │  7Mod15_[2^0] ││  7Mod15_[2^1] │          ║  ║  ║ \n",
       "q_5: ─────┤2              ├┤2              ├──────────╫──╫──╫─\n",
       "          │               ││               │          ║  ║  ║ \n",
       "q_6: ─────┤3              ├┤3              ├──────────╫──╫──╫─\n",
       "          └───────────────┘└───────────────┘          ║  ║  ║ \n",
       "c: 3/═════════════════════════════════════════════════╩══╩══╩═\n",
       "                                                      0  1  2 "
      ]
     },
     "execution_count": 36,
     "metadata": {},
     "output_type": "execute_result"
    }
   ],
   "source": [
    "# QPE circuit for Shor\n",
    "t = 3 \n",
    "shor_QPE = QuantumCircuit(t+m, t)\n",
    "shor_QPE.h(range(t))\n",
    "\n",
    "shor_QPE.x(t)\n",
    "for idx in range(t-1):\n",
    "    shor_QPE.append(cU_multi(idx), [idx]+ list(range(t,t+m)))\n",
    "\n",
    "qft_dag = qft(t).inverse()\n",
    "qft_dag.name = 'QFT+'\n",
    "\n",
    "shor_QPE.append(qft_dag, range(t))\n",
    "shor_QPE.measure(range(t), range(t))\n",
    "\n",
    "shor_QPE.draw()"
   ]
  },
  {
   "cell_type": "code",
   "execution_count": 40,
   "id": "11244fd1",
   "metadata": {},
   "outputs": [
    {
     "ename": "AerError",
     "evalue": "'unknown instruction: c7Mod15_[2^0]'",
     "output_type": "error",
     "traceback": [
      "\u001b[1;31m---------------------------------------------------------------------------\u001b[0m",
      "\u001b[1;31mAerError\u001b[0m                                  Traceback (most recent call last)",
      "Cell \u001b[1;32mIn[40], line 4\u001b[0m\n\u001b[0;32m      2\u001b[0m shots \u001b[38;5;241m=\u001b[39m \u001b[38;5;241m1024\u001b[39m\n\u001b[0;32m      3\u001b[0m job \u001b[38;5;241m=\u001b[39m sim\u001b[38;5;241m.\u001b[39mrun(shor_QPE, shots\u001b[38;5;241m=\u001b[39mshots, memory\u001b[38;5;241m=\u001b[39m\u001b[38;5;28;01mTrue\u001b[39;00m)\n\u001b[1;32m----> 4\u001b[0m output \u001b[38;5;241m=\u001b[39m \u001b[43mjob\u001b[49m\u001b[38;5;241;43m.\u001b[39;49m\u001b[43mresult\u001b[49m\u001b[43m(\u001b[49m\u001b[43m)\u001b[49m\u001b[38;5;241m.\u001b[39mget_memory()[\u001b[38;5;241m0\u001b[39m]\n",
      "File \u001b[1;32mc:\\Users\\73747\\Documents\\GitHub\\IBMLab\\IBMLabVenv\\Lib\\site-packages\\qiskit_aer\\jobs\\utils.py:38\u001b[0m, in \u001b[0;36mrequires_submit.<locals>._wrapper\u001b[1;34m(self, *args, **kwargs)\u001b[0m\n\u001b[0;32m     36\u001b[0m \u001b[38;5;28;01mif\u001b[39;00m \u001b[38;5;28mself\u001b[39m\u001b[38;5;241m.\u001b[39m_future \u001b[38;5;129;01mis\u001b[39;00m \u001b[38;5;28;01mNone\u001b[39;00m:\n\u001b[0;32m     37\u001b[0m     \u001b[38;5;28;01mraise\u001b[39;00m JobError(\u001b[38;5;124m\"\u001b[39m\u001b[38;5;124mJob not submitted yet!. You have to .submit() first!\u001b[39m\u001b[38;5;124m\"\u001b[39m)\n\u001b[1;32m---> 38\u001b[0m \u001b[38;5;28;01mreturn\u001b[39;00m \u001b[43mfunc\u001b[49m\u001b[43m(\u001b[49m\u001b[38;5;28;43mself\u001b[39;49m\u001b[43m,\u001b[49m\u001b[43m \u001b[49m\u001b[38;5;241;43m*\u001b[39;49m\u001b[43margs\u001b[49m\u001b[43m,\u001b[49m\u001b[43m \u001b[49m\u001b[38;5;241;43m*\u001b[39;49m\u001b[38;5;241;43m*\u001b[39;49m\u001b[43mkwargs\u001b[49m\u001b[43m)\u001b[49m\n",
      "File \u001b[1;32mc:\\Users\\73747\\Documents\\GitHub\\IBMLab\\IBMLabVenv\\Lib\\site-packages\\qiskit_aer\\jobs\\aerjob.py:96\u001b[0m, in \u001b[0;36mAerJob.result\u001b[1;34m(self, timeout)\u001b[0m\n\u001b[0;32m     78\u001b[0m \u001b[38;5;129m@requires_submit\u001b[39m\n\u001b[0;32m     79\u001b[0m \u001b[38;5;28;01mdef\u001b[39;00m \u001b[38;5;21mresult\u001b[39m(\u001b[38;5;28mself\u001b[39m, timeout\u001b[38;5;241m=\u001b[39m\u001b[38;5;28;01mNone\u001b[39;00m):\n\u001b[0;32m     80\u001b[0m     \u001b[38;5;66;03m# pylint: disable=arguments-differ\u001b[39;00m\n\u001b[0;32m     81\u001b[0m \u001b[38;5;250m    \u001b[39m\u001b[38;5;124;03m\"\"\"Get job result. The behavior is the same as the underlying\u001b[39;00m\n\u001b[0;32m     82\u001b[0m \u001b[38;5;124;03m    concurrent Future objects,\u001b[39;00m\n\u001b[0;32m     83\u001b[0m \n\u001b[1;32m   (...)\u001b[0m\n\u001b[0;32m     94\u001b[0m \u001b[38;5;124;03m        concurrent.futures.CancelledError: if job cancelled before completed.\u001b[39;00m\n\u001b[0;32m     95\u001b[0m \u001b[38;5;124;03m    \"\"\"\u001b[39;00m\n\u001b[1;32m---> 96\u001b[0m     \u001b[38;5;28;01mreturn\u001b[39;00m \u001b[38;5;28;43mself\u001b[39;49m\u001b[38;5;241;43m.\u001b[39;49m\u001b[43m_future\u001b[49m\u001b[38;5;241;43m.\u001b[39;49m\u001b[43mresult\u001b[49m\u001b[43m(\u001b[49m\u001b[43mtimeout\u001b[49m\u001b[38;5;241;43m=\u001b[39;49m\u001b[43mtimeout\u001b[49m\u001b[43m)\u001b[49m\n",
      "File \u001b[1;32m~\\AppData\\Local\\Programs\\Python\\Python311\\Lib\\concurrent\\futures\\_base.py:456\u001b[0m, in \u001b[0;36mFuture.result\u001b[1;34m(self, timeout)\u001b[0m\n\u001b[0;32m    454\u001b[0m     \u001b[38;5;28;01mraise\u001b[39;00m CancelledError()\n\u001b[0;32m    455\u001b[0m \u001b[38;5;28;01melif\u001b[39;00m \u001b[38;5;28mself\u001b[39m\u001b[38;5;241m.\u001b[39m_state \u001b[38;5;241m==\u001b[39m FINISHED:\n\u001b[1;32m--> 456\u001b[0m     \u001b[38;5;28;01mreturn\u001b[39;00m \u001b[38;5;28;43mself\u001b[39;49m\u001b[38;5;241;43m.\u001b[39;49m\u001b[43m__get_result\u001b[49m\u001b[43m(\u001b[49m\u001b[43m)\u001b[49m\n\u001b[0;32m    457\u001b[0m \u001b[38;5;28;01melse\u001b[39;00m:\n\u001b[0;32m    458\u001b[0m     \u001b[38;5;28;01mraise\u001b[39;00m \u001b[38;5;167;01mTimeoutError\u001b[39;00m()\n",
      "File \u001b[1;32m~\\AppData\\Local\\Programs\\Python\\Python311\\Lib\\concurrent\\futures\\_base.py:401\u001b[0m, in \u001b[0;36mFuture.__get_result\u001b[1;34m(self)\u001b[0m\n\u001b[0;32m    399\u001b[0m \u001b[38;5;28;01mif\u001b[39;00m \u001b[38;5;28mself\u001b[39m\u001b[38;5;241m.\u001b[39m_exception:\n\u001b[0;32m    400\u001b[0m     \u001b[38;5;28;01mtry\u001b[39;00m:\n\u001b[1;32m--> 401\u001b[0m         \u001b[38;5;28;01mraise\u001b[39;00m \u001b[38;5;28mself\u001b[39m\u001b[38;5;241m.\u001b[39m_exception\n\u001b[0;32m    402\u001b[0m     \u001b[38;5;28;01mfinally\u001b[39;00m:\n\u001b[0;32m    403\u001b[0m         \u001b[38;5;66;03m# Break a reference cycle with the exception in self._exception\u001b[39;00m\n\u001b[0;32m    404\u001b[0m         \u001b[38;5;28mself\u001b[39m \u001b[38;5;241m=\u001b[39m \u001b[38;5;28;01mNone\u001b[39;00m\n",
      "File \u001b[1;32m~\\AppData\\Local\\Programs\\Python\\Python311\\Lib\\concurrent\\futures\\thread.py:58\u001b[0m, in \u001b[0;36m_WorkItem.run\u001b[1;34m(self)\u001b[0m\n\u001b[0;32m     55\u001b[0m     \u001b[38;5;28;01mreturn\u001b[39;00m\n\u001b[0;32m     57\u001b[0m \u001b[38;5;28;01mtry\u001b[39;00m:\n\u001b[1;32m---> 58\u001b[0m     result \u001b[38;5;241m=\u001b[39m \u001b[38;5;28;43mself\u001b[39;49m\u001b[38;5;241;43m.\u001b[39;49m\u001b[43mfn\u001b[49m\u001b[43m(\u001b[49m\u001b[38;5;241;43m*\u001b[39;49m\u001b[38;5;28;43mself\u001b[39;49m\u001b[38;5;241;43m.\u001b[39;49m\u001b[43margs\u001b[49m\u001b[43m,\u001b[49m\u001b[43m \u001b[49m\u001b[38;5;241;43m*\u001b[39;49m\u001b[38;5;241;43m*\u001b[39;49m\u001b[38;5;28;43mself\u001b[39;49m\u001b[38;5;241;43m.\u001b[39;49m\u001b[43mkwargs\u001b[49m\u001b[43m)\u001b[49m\n\u001b[0;32m     59\u001b[0m \u001b[38;5;28;01mexcept\u001b[39;00m \u001b[38;5;167;01mBaseException\u001b[39;00m \u001b[38;5;28;01mas\u001b[39;00m exc:\n\u001b[0;32m     60\u001b[0m     \u001b[38;5;28mself\u001b[39m\u001b[38;5;241m.\u001b[39mfuture\u001b[38;5;241m.\u001b[39mset_exception(exc)\n",
      "File \u001b[1;32mc:\\Users\\73747\\Documents\\GitHub\\IBMLab\\IBMLabVenv\\Lib\\site-packages\\qiskit_aer\\backends\\aerbackend.py:472\u001b[0m, in \u001b[0;36mAerBackend._execute_circuits_job\u001b[1;34m(self, circuits, parameter_binds, run_options, job_id, format_result)\u001b[0m\n\u001b[0;32m    470\u001b[0m     aer_circuits, idx_maps \u001b[38;5;241m=\u001b[39m assemble_circuits(circuits, \u001b[38;5;28mself\u001b[39m\u001b[38;5;241m.\u001b[39mconfiguration()\u001b[38;5;241m.\u001b[39mbasis_gates)\n\u001b[0;32m    471\u001b[0m \u001b[38;5;28;01melse\u001b[39;00m:\n\u001b[1;32m--> 472\u001b[0m     aer_circuits, idx_maps \u001b[38;5;241m=\u001b[39m \u001b[43massemble_circuits\u001b[49m\u001b[43m(\u001b[49m\u001b[43mcircuits\u001b[49m\u001b[43m)\u001b[49m\n\u001b[0;32m    473\u001b[0m \u001b[38;5;28;01mif\u001b[39;00m parameter_binds:\n\u001b[0;32m    474\u001b[0m     run_options[\u001b[38;5;124m\"\u001b[39m\u001b[38;5;124mparameterizations\u001b[39m\u001b[38;5;124m\"\u001b[39m] \u001b[38;5;241m=\u001b[39m \u001b[38;5;28mself\u001b[39m\u001b[38;5;241m.\u001b[39m_convert_binds(\n\u001b[0;32m    475\u001b[0m         circuits, parameter_binds, idx_maps\n\u001b[0;32m    476\u001b[0m     )\n",
      "File \u001b[1;32mc:\\Users\\73747\\Documents\\GitHub\\IBMLab\\IBMLabVenv\\Lib\\site-packages\\qiskit_aer\\backends\\aer_compiler.py:1068\u001b[0m, in \u001b[0;36massemble_circuits\u001b[1;34m(circuits, basis_gates)\u001b[0m\n\u001b[0;32m   1064\u001b[0m     aer_circuits, idx_maps \u001b[38;5;241m=\u001b[39m \u001b[38;5;28mzip\u001b[39m(\n\u001b[0;32m   1065\u001b[0m         \u001b[38;5;241m*\u001b[39m[assemble_circuit(circuit, basis_gates_set) \u001b[38;5;28;01mfor\u001b[39;00m circuit \u001b[38;5;129;01min\u001b[39;00m circuits]\n\u001b[0;32m   1066\u001b[0m     )\n\u001b[0;32m   1067\u001b[0m \u001b[38;5;28;01melse\u001b[39;00m:\n\u001b[1;32m-> 1068\u001b[0m     aer_circuits, idx_maps \u001b[38;5;241m=\u001b[39m \u001b[38;5;28mzip\u001b[39m(\u001b[38;5;241m*\u001b[39m\u001b[43m[\u001b[49m\u001b[43massemble_circuit\u001b[49m\u001b[43m(\u001b[49m\u001b[43mcircuit\u001b[49m\u001b[43m)\u001b[49m\u001b[43m \u001b[49m\u001b[38;5;28;43;01mfor\u001b[39;49;00m\u001b[43m \u001b[49m\u001b[43mcircuit\u001b[49m\u001b[43m \u001b[49m\u001b[38;5;129;43;01min\u001b[39;49;00m\u001b[43m \u001b[49m\u001b[43mcircuits\u001b[49m\u001b[43m]\u001b[49m)\n\u001b[0;32m   1069\u001b[0m \u001b[38;5;28;01mreturn\u001b[39;00m \u001b[38;5;28mlist\u001b[39m(aer_circuits), \u001b[38;5;28mlist\u001b[39m(idx_maps)\n",
      "File \u001b[1;32mc:\\Users\\73747\\Documents\\GitHub\\IBMLab\\IBMLabVenv\\Lib\\site-packages\\qiskit_aer\\backends\\aer_compiler.py:1068\u001b[0m, in \u001b[0;36m<listcomp>\u001b[1;34m(.0)\u001b[0m\n\u001b[0;32m   1064\u001b[0m     aer_circuits, idx_maps \u001b[38;5;241m=\u001b[39m \u001b[38;5;28mzip\u001b[39m(\n\u001b[0;32m   1065\u001b[0m         \u001b[38;5;241m*\u001b[39m[assemble_circuit(circuit, basis_gates_set) \u001b[38;5;28;01mfor\u001b[39;00m circuit \u001b[38;5;129;01min\u001b[39;00m circuits]\n\u001b[0;32m   1066\u001b[0m     )\n\u001b[0;32m   1067\u001b[0m \u001b[38;5;28;01melse\u001b[39;00m:\n\u001b[1;32m-> 1068\u001b[0m     aer_circuits, idx_maps \u001b[38;5;241m=\u001b[39m \u001b[38;5;28mzip\u001b[39m(\u001b[38;5;241m*\u001b[39m[\u001b[43massemble_circuit\u001b[49m\u001b[43m(\u001b[49m\u001b[43mcircuit\u001b[49m\u001b[43m)\u001b[49m \u001b[38;5;28;01mfor\u001b[39;00m circuit \u001b[38;5;129;01min\u001b[39;00m circuits])\n\u001b[0;32m   1069\u001b[0m \u001b[38;5;28;01mreturn\u001b[39;00m \u001b[38;5;28mlist\u001b[39m(aer_circuits), \u001b[38;5;28mlist\u001b[39m(idx_maps)\n",
      "File \u001b[1;32mc:\\Users\\73747\\Documents\\GitHub\\IBMLab\\IBMLabVenv\\Lib\\site-packages\\qiskit_aer\\backends\\aer_compiler.py:734\u001b[0m, in \u001b[0;36massemble_circuit\u001b[1;34m(circuit, basis_gates)\u001b[0m\n\u001b[0;32m    731\u001b[0m     \u001b[38;5;28;01melif\u001b[39;00m \u001b[38;5;28mhasattr\u001b[39m(inst\u001b[38;5;241m.\u001b[39moperation, \u001b[38;5;124m\"\u001b[39m\u001b[38;5;124mcondition_expr\u001b[39m\u001b[38;5;124m\"\u001b[39m) \u001b[38;5;129;01mand\u001b[39;00m inst\u001b[38;5;241m.\u001b[39moperation\u001b[38;5;241m.\u001b[39mcondition_expr:\n\u001b[0;32m    732\u001b[0m         conditional_expr \u001b[38;5;241m=\u001b[39m inst\u001b[38;5;241m.\u001b[39moperation\u001b[38;5;241m.\u001b[39mcondition_expr\n\u001b[1;32m--> 734\u001b[0m     num_of_aer_ops \u001b[38;5;241m+\u001b[39m\u001b[38;5;241m=\u001b[39m \u001b[43m_assemble_op\u001b[49m\u001b[43m(\u001b[49m\n\u001b[0;32m    735\u001b[0m \u001b[43m        \u001b[49m\u001b[43mcircuit\u001b[49m\u001b[43m,\u001b[49m\n\u001b[0;32m    736\u001b[0m \u001b[43m        \u001b[49m\u001b[43maer_circ\u001b[49m\u001b[43m,\u001b[49m\n\u001b[0;32m    737\u001b[0m \u001b[43m        \u001b[49m\u001b[43minst\u001b[49m\u001b[43m,\u001b[49m\n\u001b[0;32m    738\u001b[0m \u001b[43m        \u001b[49m\u001b[43mqubit_indices\u001b[49m\u001b[43m,\u001b[49m\n\u001b[0;32m    739\u001b[0m \u001b[43m        \u001b[49m\u001b[43mclbit_indices\u001b[49m\u001b[43m,\u001b[49m\n\u001b[0;32m    740\u001b[0m \u001b[43m        \u001b[49m\u001b[43mis_conditional\u001b[49m\u001b[43m,\u001b[49m\n\u001b[0;32m    741\u001b[0m \u001b[43m        \u001b[49m\u001b[43mconditional_reg\u001b[49m\u001b[43m,\u001b[49m\n\u001b[0;32m    742\u001b[0m \u001b[43m        \u001b[49m\u001b[43mconditional_expr\u001b[49m\u001b[43m,\u001b[49m\n\u001b[0;32m    743\u001b[0m \u001b[43m        \u001b[49m\u001b[43mbasis_gates\u001b[49m\u001b[43m,\u001b[49m\n\u001b[0;32m    744\u001b[0m \u001b[43m    \u001b[49m\u001b[43m)\u001b[49m\n\u001b[0;32m    745\u001b[0m     index_map\u001b[38;5;241m.\u001b[39mappend(num_of_aer_ops \u001b[38;5;241m-\u001b[39m \u001b[38;5;241m1\u001b[39m)\n\u001b[0;32m    747\u001b[0m \u001b[38;5;28;01mreturn\u001b[39;00m aer_circ, index_map\n",
      "File \u001b[1;32mc:\\Users\\73747\\Documents\\GitHub\\IBMLab\\IBMLabVenv\\Lib\\site-packages\\qiskit_aer\\backends\\aer_compiler.py:1032\u001b[0m, in \u001b[0;36m_assemble_op\u001b[1;34m(circ, aer_circ, inst, qubit_indices, clbit_indices, is_conditional, conditional_reg, conditional_expr, basis_gates)\u001b[0m\n\u001b[0;32m   1030\u001b[0m     num_of_aer_ops \u001b[38;5;241m=\u001b[39m \u001b[38;5;241m1\u001b[39m\n\u001b[0;32m   1031\u001b[0m \u001b[38;5;28;01melse\u001b[39;00m:\n\u001b[1;32m-> 1032\u001b[0m     \u001b[38;5;28;01mraise\u001b[39;00m AerError(\u001b[38;5;124mf\u001b[39m\u001b[38;5;124m\"\u001b[39m\u001b[38;5;124munknown instruction: \u001b[39m\u001b[38;5;132;01m{\u001b[39;00mname\u001b[38;5;132;01m}\u001b[39;00m\u001b[38;5;124m\"\u001b[39m)\n\u001b[0;32m   1034\u001b[0m \u001b[38;5;28;01mreturn\u001b[39;00m num_of_aer_ops\n",
      "\u001b[1;31mAerError\u001b[0m: 'unknown instruction: c7Mod15_[2^0]'"
     ]
    }
   ],
   "source": [
    "sim = AerSimulator()\n",
    "shots = 1024\n",
    "job = sim.run(shor_QPE, shots=shots, memory=True)\n",
    "output = job.result().get_memory()[0]\n"
   ]
  },
  {
   "cell_type": "code",
   "execution_count": 39,
   "id": "e1fed845",
   "metadata": {},
   "outputs": [
    {
     "data": {
      "text/plain": [
       "<qiskit_aer.jobs.aerjob.AerJob at 0x226ffb72dd0>"
      ]
     },
     "execution_count": 39,
     "metadata": {},
     "output_type": "execute_result"
    }
   ],
   "source": [
    "job"
   ]
  },
  {
   "cell_type": "code",
   "execution_count": 37,
   "id": "9a4b3eff",
   "metadata": {},
   "outputs": [
    {
     "ename": "AerError",
     "evalue": "'unknown instruction: c7Mod15_[2^0]'",
     "output_type": "error",
     "traceback": [
      "\u001b[1;31m---------------------------------------------------------------------------\u001b[0m",
      "\u001b[1;31mAerError\u001b[0m                                  Traceback (most recent call last)",
      "Cell \u001b[1;32mIn[37], line 5\u001b[0m\n\u001b[0;32m      2\u001b[0m shots \u001b[38;5;241m=\u001b[39m \u001b[38;5;241m1024\u001b[39m\n\u001b[0;32m      3\u001b[0m job \u001b[38;5;241m=\u001b[39m sim\u001b[38;5;241m.\u001b[39mrun(shor_QPE, shots\u001b[38;5;241m=\u001b[39mshots)\n\u001b[1;32m----> 5\u001b[0m count_QPE \u001b[38;5;241m=\u001b[39m \u001b[43mjob\u001b[49m\u001b[38;5;241;43m.\u001b[39;49m\u001b[43mresult\u001b[49m\u001b[43m(\u001b[49m\u001b[43m)\u001b[49m\u001b[38;5;241m.\u001b[39mget_counts()\n\u001b[0;32m      8\u001b[0m key_new \u001b[38;5;241m=\u001b[39m [\u001b[38;5;28mstr\u001b[39m(\u001b[38;5;28mint\u001b[39m(key,\u001b[38;5;241m2\u001b[39m)\u001b[38;5;241m/\u001b[39m\u001b[38;5;241m2\u001b[39m\u001b[38;5;241m*\u001b[39m\u001b[38;5;241m*\u001b[39m\u001b[38;5;241m3\u001b[39m) \u001b[38;5;28;01mfor\u001b[39;00m key \u001b[38;5;129;01min\u001b[39;00m count_QPE\u001b[38;5;241m.\u001b[39mkeys()]\n\u001b[0;32m      9\u001b[0m count_new_QPE \u001b[38;5;241m=\u001b[39m \u001b[38;5;28mdict\u001b[39m(\u001b[38;5;28mzip\u001b[39m(key_new, count_QPE\u001b[38;5;241m.\u001b[39mvalues()))\n",
      "File \u001b[1;32mc:\\Users\\73747\\Documents\\GitHub\\IBMLab\\IBMLabVenv\\Lib\\site-packages\\qiskit_aer\\jobs\\utils.py:38\u001b[0m, in \u001b[0;36mrequires_submit.<locals>._wrapper\u001b[1;34m(self, *args, **kwargs)\u001b[0m\n\u001b[0;32m     36\u001b[0m \u001b[38;5;28;01mif\u001b[39;00m \u001b[38;5;28mself\u001b[39m\u001b[38;5;241m.\u001b[39m_future \u001b[38;5;129;01mis\u001b[39;00m \u001b[38;5;28;01mNone\u001b[39;00m:\n\u001b[0;32m     37\u001b[0m     \u001b[38;5;28;01mraise\u001b[39;00m JobError(\u001b[38;5;124m\"\u001b[39m\u001b[38;5;124mJob not submitted yet!. You have to .submit() first!\u001b[39m\u001b[38;5;124m\"\u001b[39m)\n\u001b[1;32m---> 38\u001b[0m \u001b[38;5;28;01mreturn\u001b[39;00m \u001b[43mfunc\u001b[49m\u001b[43m(\u001b[49m\u001b[38;5;28;43mself\u001b[39;49m\u001b[43m,\u001b[49m\u001b[43m \u001b[49m\u001b[38;5;241;43m*\u001b[39;49m\u001b[43margs\u001b[49m\u001b[43m,\u001b[49m\u001b[43m \u001b[49m\u001b[38;5;241;43m*\u001b[39;49m\u001b[38;5;241;43m*\u001b[39;49m\u001b[43mkwargs\u001b[49m\u001b[43m)\u001b[49m\n",
      "File \u001b[1;32mc:\\Users\\73747\\Documents\\GitHub\\IBMLab\\IBMLabVenv\\Lib\\site-packages\\qiskit_aer\\jobs\\aerjob.py:96\u001b[0m, in \u001b[0;36mAerJob.result\u001b[1;34m(self, timeout)\u001b[0m\n\u001b[0;32m     78\u001b[0m \u001b[38;5;129m@requires_submit\u001b[39m\n\u001b[0;32m     79\u001b[0m \u001b[38;5;28;01mdef\u001b[39;00m \u001b[38;5;21mresult\u001b[39m(\u001b[38;5;28mself\u001b[39m, timeout\u001b[38;5;241m=\u001b[39m\u001b[38;5;28;01mNone\u001b[39;00m):\n\u001b[0;32m     80\u001b[0m     \u001b[38;5;66;03m# pylint: disable=arguments-differ\u001b[39;00m\n\u001b[0;32m     81\u001b[0m \u001b[38;5;250m    \u001b[39m\u001b[38;5;124;03m\"\"\"Get job result. The behavior is the same as the underlying\u001b[39;00m\n\u001b[0;32m     82\u001b[0m \u001b[38;5;124;03m    concurrent Future objects,\u001b[39;00m\n\u001b[0;32m     83\u001b[0m \n\u001b[1;32m   (...)\u001b[0m\n\u001b[0;32m     94\u001b[0m \u001b[38;5;124;03m        concurrent.futures.CancelledError: if job cancelled before completed.\u001b[39;00m\n\u001b[0;32m     95\u001b[0m \u001b[38;5;124;03m    \"\"\"\u001b[39;00m\n\u001b[1;32m---> 96\u001b[0m     \u001b[38;5;28;01mreturn\u001b[39;00m \u001b[38;5;28;43mself\u001b[39;49m\u001b[38;5;241;43m.\u001b[39;49m\u001b[43m_future\u001b[49m\u001b[38;5;241;43m.\u001b[39;49m\u001b[43mresult\u001b[49m\u001b[43m(\u001b[49m\u001b[43mtimeout\u001b[49m\u001b[38;5;241;43m=\u001b[39;49m\u001b[43mtimeout\u001b[49m\u001b[43m)\u001b[49m\n",
      "File \u001b[1;32m~\\AppData\\Local\\Programs\\Python\\Python311\\Lib\\concurrent\\futures\\_base.py:456\u001b[0m, in \u001b[0;36mFuture.result\u001b[1;34m(self, timeout)\u001b[0m\n\u001b[0;32m    454\u001b[0m     \u001b[38;5;28;01mraise\u001b[39;00m CancelledError()\n\u001b[0;32m    455\u001b[0m \u001b[38;5;28;01melif\u001b[39;00m \u001b[38;5;28mself\u001b[39m\u001b[38;5;241m.\u001b[39m_state \u001b[38;5;241m==\u001b[39m FINISHED:\n\u001b[1;32m--> 456\u001b[0m     \u001b[38;5;28;01mreturn\u001b[39;00m \u001b[38;5;28;43mself\u001b[39;49m\u001b[38;5;241;43m.\u001b[39;49m\u001b[43m__get_result\u001b[49m\u001b[43m(\u001b[49m\u001b[43m)\u001b[49m\n\u001b[0;32m    457\u001b[0m \u001b[38;5;28;01melse\u001b[39;00m:\n\u001b[0;32m    458\u001b[0m     \u001b[38;5;28;01mraise\u001b[39;00m \u001b[38;5;167;01mTimeoutError\u001b[39;00m()\n",
      "File \u001b[1;32m~\\AppData\\Local\\Programs\\Python\\Python311\\Lib\\concurrent\\futures\\_base.py:401\u001b[0m, in \u001b[0;36mFuture.__get_result\u001b[1;34m(self)\u001b[0m\n\u001b[0;32m    399\u001b[0m \u001b[38;5;28;01mif\u001b[39;00m \u001b[38;5;28mself\u001b[39m\u001b[38;5;241m.\u001b[39m_exception:\n\u001b[0;32m    400\u001b[0m     \u001b[38;5;28;01mtry\u001b[39;00m:\n\u001b[1;32m--> 401\u001b[0m         \u001b[38;5;28;01mraise\u001b[39;00m \u001b[38;5;28mself\u001b[39m\u001b[38;5;241m.\u001b[39m_exception\n\u001b[0;32m    402\u001b[0m     \u001b[38;5;28;01mfinally\u001b[39;00m:\n\u001b[0;32m    403\u001b[0m         \u001b[38;5;66;03m# Break a reference cycle with the exception in self._exception\u001b[39;00m\n\u001b[0;32m    404\u001b[0m         \u001b[38;5;28mself\u001b[39m \u001b[38;5;241m=\u001b[39m \u001b[38;5;28;01mNone\u001b[39;00m\n",
      "File \u001b[1;32m~\\AppData\\Local\\Programs\\Python\\Python311\\Lib\\concurrent\\futures\\thread.py:58\u001b[0m, in \u001b[0;36m_WorkItem.run\u001b[1;34m(self)\u001b[0m\n\u001b[0;32m     55\u001b[0m     \u001b[38;5;28;01mreturn\u001b[39;00m\n\u001b[0;32m     57\u001b[0m \u001b[38;5;28;01mtry\u001b[39;00m:\n\u001b[1;32m---> 58\u001b[0m     result \u001b[38;5;241m=\u001b[39m \u001b[38;5;28;43mself\u001b[39;49m\u001b[38;5;241;43m.\u001b[39;49m\u001b[43mfn\u001b[49m\u001b[43m(\u001b[49m\u001b[38;5;241;43m*\u001b[39;49m\u001b[38;5;28;43mself\u001b[39;49m\u001b[38;5;241;43m.\u001b[39;49m\u001b[43margs\u001b[49m\u001b[43m,\u001b[49m\u001b[43m \u001b[49m\u001b[38;5;241;43m*\u001b[39;49m\u001b[38;5;241;43m*\u001b[39;49m\u001b[38;5;28;43mself\u001b[39;49m\u001b[38;5;241;43m.\u001b[39;49m\u001b[43mkwargs\u001b[49m\u001b[43m)\u001b[49m\n\u001b[0;32m     59\u001b[0m \u001b[38;5;28;01mexcept\u001b[39;00m \u001b[38;5;167;01mBaseException\u001b[39;00m \u001b[38;5;28;01mas\u001b[39;00m exc:\n\u001b[0;32m     60\u001b[0m     \u001b[38;5;28mself\u001b[39m\u001b[38;5;241m.\u001b[39mfuture\u001b[38;5;241m.\u001b[39mset_exception(exc)\n",
      "File \u001b[1;32mc:\\Users\\73747\\Documents\\GitHub\\IBMLab\\IBMLabVenv\\Lib\\site-packages\\qiskit_aer\\backends\\aerbackend.py:472\u001b[0m, in \u001b[0;36mAerBackend._execute_circuits_job\u001b[1;34m(self, circuits, parameter_binds, run_options, job_id, format_result)\u001b[0m\n\u001b[0;32m    470\u001b[0m     aer_circuits, idx_maps \u001b[38;5;241m=\u001b[39m assemble_circuits(circuits, \u001b[38;5;28mself\u001b[39m\u001b[38;5;241m.\u001b[39mconfiguration()\u001b[38;5;241m.\u001b[39mbasis_gates)\n\u001b[0;32m    471\u001b[0m \u001b[38;5;28;01melse\u001b[39;00m:\n\u001b[1;32m--> 472\u001b[0m     aer_circuits, idx_maps \u001b[38;5;241m=\u001b[39m \u001b[43massemble_circuits\u001b[49m\u001b[43m(\u001b[49m\u001b[43mcircuits\u001b[49m\u001b[43m)\u001b[49m\n\u001b[0;32m    473\u001b[0m \u001b[38;5;28;01mif\u001b[39;00m parameter_binds:\n\u001b[0;32m    474\u001b[0m     run_options[\u001b[38;5;124m\"\u001b[39m\u001b[38;5;124mparameterizations\u001b[39m\u001b[38;5;124m\"\u001b[39m] \u001b[38;5;241m=\u001b[39m \u001b[38;5;28mself\u001b[39m\u001b[38;5;241m.\u001b[39m_convert_binds(\n\u001b[0;32m    475\u001b[0m         circuits, parameter_binds, idx_maps\n\u001b[0;32m    476\u001b[0m     )\n",
      "File \u001b[1;32mc:\\Users\\73747\\Documents\\GitHub\\IBMLab\\IBMLabVenv\\Lib\\site-packages\\qiskit_aer\\backends\\aer_compiler.py:1068\u001b[0m, in \u001b[0;36massemble_circuits\u001b[1;34m(circuits, basis_gates)\u001b[0m\n\u001b[0;32m   1064\u001b[0m     aer_circuits, idx_maps \u001b[38;5;241m=\u001b[39m \u001b[38;5;28mzip\u001b[39m(\n\u001b[0;32m   1065\u001b[0m         \u001b[38;5;241m*\u001b[39m[assemble_circuit(circuit, basis_gates_set) \u001b[38;5;28;01mfor\u001b[39;00m circuit \u001b[38;5;129;01min\u001b[39;00m circuits]\n\u001b[0;32m   1066\u001b[0m     )\n\u001b[0;32m   1067\u001b[0m \u001b[38;5;28;01melse\u001b[39;00m:\n\u001b[1;32m-> 1068\u001b[0m     aer_circuits, idx_maps \u001b[38;5;241m=\u001b[39m \u001b[38;5;28mzip\u001b[39m(\u001b[38;5;241m*\u001b[39m\u001b[43m[\u001b[49m\u001b[43massemble_circuit\u001b[49m\u001b[43m(\u001b[49m\u001b[43mcircuit\u001b[49m\u001b[43m)\u001b[49m\u001b[43m \u001b[49m\u001b[38;5;28;43;01mfor\u001b[39;49;00m\u001b[43m \u001b[49m\u001b[43mcircuit\u001b[49m\u001b[43m \u001b[49m\u001b[38;5;129;43;01min\u001b[39;49;00m\u001b[43m \u001b[49m\u001b[43mcircuits\u001b[49m\u001b[43m]\u001b[49m)\n\u001b[0;32m   1069\u001b[0m \u001b[38;5;28;01mreturn\u001b[39;00m \u001b[38;5;28mlist\u001b[39m(aer_circuits), \u001b[38;5;28mlist\u001b[39m(idx_maps)\n",
      "File \u001b[1;32mc:\\Users\\73747\\Documents\\GitHub\\IBMLab\\IBMLabVenv\\Lib\\site-packages\\qiskit_aer\\backends\\aer_compiler.py:1068\u001b[0m, in \u001b[0;36m<listcomp>\u001b[1;34m(.0)\u001b[0m\n\u001b[0;32m   1064\u001b[0m     aer_circuits, idx_maps \u001b[38;5;241m=\u001b[39m \u001b[38;5;28mzip\u001b[39m(\n\u001b[0;32m   1065\u001b[0m         \u001b[38;5;241m*\u001b[39m[assemble_circuit(circuit, basis_gates_set) \u001b[38;5;28;01mfor\u001b[39;00m circuit \u001b[38;5;129;01min\u001b[39;00m circuits]\n\u001b[0;32m   1066\u001b[0m     )\n\u001b[0;32m   1067\u001b[0m \u001b[38;5;28;01melse\u001b[39;00m:\n\u001b[1;32m-> 1068\u001b[0m     aer_circuits, idx_maps \u001b[38;5;241m=\u001b[39m \u001b[38;5;28mzip\u001b[39m(\u001b[38;5;241m*\u001b[39m[\u001b[43massemble_circuit\u001b[49m\u001b[43m(\u001b[49m\u001b[43mcircuit\u001b[49m\u001b[43m)\u001b[49m \u001b[38;5;28;01mfor\u001b[39;00m circuit \u001b[38;5;129;01min\u001b[39;00m circuits])\n\u001b[0;32m   1069\u001b[0m \u001b[38;5;28;01mreturn\u001b[39;00m \u001b[38;5;28mlist\u001b[39m(aer_circuits), \u001b[38;5;28mlist\u001b[39m(idx_maps)\n",
      "File \u001b[1;32mc:\\Users\\73747\\Documents\\GitHub\\IBMLab\\IBMLabVenv\\Lib\\site-packages\\qiskit_aer\\backends\\aer_compiler.py:734\u001b[0m, in \u001b[0;36massemble_circuit\u001b[1;34m(circuit, basis_gates)\u001b[0m\n\u001b[0;32m    731\u001b[0m     \u001b[38;5;28;01melif\u001b[39;00m \u001b[38;5;28mhasattr\u001b[39m(inst\u001b[38;5;241m.\u001b[39moperation, \u001b[38;5;124m\"\u001b[39m\u001b[38;5;124mcondition_expr\u001b[39m\u001b[38;5;124m\"\u001b[39m) \u001b[38;5;129;01mand\u001b[39;00m inst\u001b[38;5;241m.\u001b[39moperation\u001b[38;5;241m.\u001b[39mcondition_expr:\n\u001b[0;32m    732\u001b[0m         conditional_expr \u001b[38;5;241m=\u001b[39m inst\u001b[38;5;241m.\u001b[39moperation\u001b[38;5;241m.\u001b[39mcondition_expr\n\u001b[1;32m--> 734\u001b[0m     num_of_aer_ops \u001b[38;5;241m+\u001b[39m\u001b[38;5;241m=\u001b[39m \u001b[43m_assemble_op\u001b[49m\u001b[43m(\u001b[49m\n\u001b[0;32m    735\u001b[0m \u001b[43m        \u001b[49m\u001b[43mcircuit\u001b[49m\u001b[43m,\u001b[49m\n\u001b[0;32m    736\u001b[0m \u001b[43m        \u001b[49m\u001b[43maer_circ\u001b[49m\u001b[43m,\u001b[49m\n\u001b[0;32m    737\u001b[0m \u001b[43m        \u001b[49m\u001b[43minst\u001b[49m\u001b[43m,\u001b[49m\n\u001b[0;32m    738\u001b[0m \u001b[43m        \u001b[49m\u001b[43mqubit_indices\u001b[49m\u001b[43m,\u001b[49m\n\u001b[0;32m    739\u001b[0m \u001b[43m        \u001b[49m\u001b[43mclbit_indices\u001b[49m\u001b[43m,\u001b[49m\n\u001b[0;32m    740\u001b[0m \u001b[43m        \u001b[49m\u001b[43mis_conditional\u001b[49m\u001b[43m,\u001b[49m\n\u001b[0;32m    741\u001b[0m \u001b[43m        \u001b[49m\u001b[43mconditional_reg\u001b[49m\u001b[43m,\u001b[49m\n\u001b[0;32m    742\u001b[0m \u001b[43m        \u001b[49m\u001b[43mconditional_expr\u001b[49m\u001b[43m,\u001b[49m\n\u001b[0;32m    743\u001b[0m \u001b[43m        \u001b[49m\u001b[43mbasis_gates\u001b[49m\u001b[43m,\u001b[49m\n\u001b[0;32m    744\u001b[0m \u001b[43m    \u001b[49m\u001b[43m)\u001b[49m\n\u001b[0;32m    745\u001b[0m     index_map\u001b[38;5;241m.\u001b[39mappend(num_of_aer_ops \u001b[38;5;241m-\u001b[39m \u001b[38;5;241m1\u001b[39m)\n\u001b[0;32m    747\u001b[0m \u001b[38;5;28;01mreturn\u001b[39;00m aer_circ, index_map\n",
      "File \u001b[1;32mc:\\Users\\73747\\Documents\\GitHub\\IBMLab\\IBMLabVenv\\Lib\\site-packages\\qiskit_aer\\backends\\aer_compiler.py:1032\u001b[0m, in \u001b[0;36m_assemble_op\u001b[1;34m(circ, aer_circ, inst, qubit_indices, clbit_indices, is_conditional, conditional_reg, conditional_expr, basis_gates)\u001b[0m\n\u001b[0;32m   1030\u001b[0m     num_of_aer_ops \u001b[38;5;241m=\u001b[39m \u001b[38;5;241m1\u001b[39m\n\u001b[0;32m   1031\u001b[0m \u001b[38;5;28;01melse\u001b[39;00m:\n\u001b[1;32m-> 1032\u001b[0m     \u001b[38;5;28;01mraise\u001b[39;00m AerError(\u001b[38;5;124mf\u001b[39m\u001b[38;5;124m\"\u001b[39m\u001b[38;5;124munknown instruction: \u001b[39m\u001b[38;5;132;01m{\u001b[39;00mname\u001b[38;5;132;01m}\u001b[39;00m\u001b[38;5;124m\"\u001b[39m)\n\u001b[0;32m   1034\u001b[0m \u001b[38;5;28;01mreturn\u001b[39;00m num_of_aer_ops\n",
      "\u001b[1;31mAerError\u001b[0m: 'unknown instruction: c7Mod15_[2^0]'"
     ]
    }
   ],
   "source": [
    "\n",
    "sim = AerSimulator()\n",
    "shots = 1024\n",
    "job = sim.run(shor_QPE, shots=shots)\n",
    "\n",
    "count_QPE = job.result().get_counts()\n",
    "\n",
    "\n",
    "key_new = [str(int(key,2)/2**3) for key in count_QPE.keys()]\n",
    "count_new_QPE = dict(zip(key_new, count_QPE.values()))\n",
    "plot_histogram(count_new_QPE)"
   ]
  },
  {
   "cell_type": "code",
   "execution_count": null,
   "id": "73c3a523",
   "metadata": {},
   "outputs": [],
   "source": [
    "count_QPE = execute(shor_QPE, sim, shots=shots).result().get_counts()\n",
    "key_new = [str(int(key,2)/2**3) for key in count_QPE.keys()]\n",
    "count_new_QPE = dict(zip(key_new, count_QPE.values()))\n",
    "plot_histogram(count_new_QPE)"
   ]
  }
 ],
 "metadata": {
  "kernelspec": {
   "display_name": "Python 3 (ipykernel)",
   "language": "python",
   "name": "python3"
  },
  "language_info": {
   "codemirror_mode": {
    "name": "ipython",
    "version": 3
   },
   "file_extension": ".py",
   "mimetype": "text/x-python",
   "name": "python",
   "nbconvert_exporter": "python",
   "pygments_lexer": "ipython3",
   "version": "3.11.1"
  }
 },
 "nbformat": 4,
 "nbformat_minor": 5
}
