{
 "cells": [
  {
   "cell_type": "markdown",
   "id": "c4e00f32",
   "metadata": {},
   "source": [
    "# Quantum Programming Lab3"
   ]
  },
  {
   "cell_type": "code",
   "execution_count": 1,
   "id": "a43b209c",
   "metadata": {},
   "outputs": [],
   "source": [
    "from qiskit import *\n",
    "from qiskit_aer import AerSimulator\n",
    "import numpy as np\n",
    "from qiskit.quantum_info import Operator\n",
    "from qiskit.visualization import plot_histogram\n",
    "import matplotlib.pyplot as plt"
   ]
  },
  {
   "cell_type": "markdown",
   "id": "26a27138-f90d-489d-b84e-5b25c4aa943b",
   "metadata": {},
   "source": [
    "## Part 1: Quantum circuit for Shor's algorithm"
   ]
  },
  {
   "cell_type": "markdown",
   "id": "2e0c0b1c-8ed4-4141-8290-226a9e0949a2",
   "metadata": {},
   "source": [
    "Construct a compiled version of quantum circuit for Shor's algorithm.\n",
    "\n",
    "Shor's algorithm consists of the following steps; choose a co-prime \n",
    "$a$, where $a \\in [2,N-1]$ and the greatest common divisor of  $a$ and $N$ is 1, find the order of $a$ modulo $N$, the smallest integer $r$\n",
    "such that $a^r \\mod N=1$, and then obtain the factor of $N$ by computing the greatst common divisor of $a^{r/2} \\pm 1$ and $N$. In this procedure, the second step, finding the order of $a$ modulo $N$, is the only quantum part, quantum order-finding.\n",
    "\n",
    "In Ch.3.9 Shor's Algorithm https://github.com/Qiskit/textbook/blob/main/notebooks/ch-algorithms/shor.ipynb,\n",
    "we built a quantum circuit to find the order for $a=7$ and $N=15$. However, as we are very well aware by now, such a large depth circuit is not practical to run on near-term quantum systems due to the presence of noise. Here in part 1 of this lab, we construct a practical quantum circuit for the same example, which could generate a meaningful solution when executed on today's quantum computers.\n",
    "\n",
    "In general, the quantum order-finding circuit to factorize the number $N$ requires $m=\\log_2(N)$ qubits in the computational (auxiliary) register and \n",
    "$2m(=t)$ qubit in the period (counting) registers .i.e. total $3m$ qubits, at minimum. Therefore, $12$ qubits were used in the quantum circuit to factorize the number 15 in Shor's Algorithm. In addition, the cotrolled unitary operator for the modular function, $f(x)=a^{x} \\mod N$ was applied in a cascading manner as shown in the figure below to produce the highly entangled state $\\sum_{x=0}^{2^m-1}\\ket{x}\\ket{a^x \\mod N}$, which increseas the circuit depth substantially. However the size of the circuit can be reduced based on several observations."
   ]
  },
  {
   "cell_type": "markdown",
   "id": "244e104d-ed37-4176-96f5-7e148034fab4",
   "metadata": {},
   "source": [
    "![title](Figure/L7_Circ_gen.svg)"
   ]
  },
  {
   "cell_type": "markdown",
   "id": "8bee57b4-1edb-415e-b04f-bfb44e9b3538",
   "metadata": {},
   "source": [
    "### 1.Remove redundancy"
   ]
  },
  {
   "cell_type": "markdown",
   "id": "ff091365-5757-42f0-81db-dbec38c2ebf0",
   "metadata": {},
   "source": [
    "### StepA:  Run the following cell to create the gate $U$ for the function $7\\mod15$.\n",
    "The unitary operator $U$ is defined as $U\\ket{x}\\equiv \\ket{7x(\\mod 15)}$"
   ]
  },
  {
   "cell_type": "code",
   "execution_count": 11,
   "id": "f1ec3e2c",
   "metadata": {},
   "outputs": [],
   "source": [
    "## Create 7mod15 gate\n",
    "N = 15\n",
    "m = int(np.ceil(np.log2(N)))\n",
    "\n",
    "U_qc = QuantumCircuit(m)\n",
    "U_qc.x(range(m))\n",
    "U_qc.swap(1, 2)\n",
    "U_qc.swap(2, 3)\n",
    "U_qc.swap(0, 3)\n",
    "\n",
    "U = U_qc.to_gate()\n",
    "U.name ='{}Mod{}'.format(7, N)"
   ]
  },
  {
   "cell_type": "markdown",
   "id": "fbd0644f-8774-49cb-a09d-8db5fd381ecf",
   "metadata": {},
   "source": [
    "Confirm if the unitary operator works properly by creating a quantum circuit with $m$ qubits. Prepare the input state representing any integer between 0 and 15 (exclusive) such as $\\ket{1}(=\\ket{0001})$, $\\ket{5}(=\\ket{0101})$, $\\ket{13}(=\\ket{0101})$ etc, and apply $U$ gate on it. Check if the circuit produces the expected outcomes for several inputs. The outcome state for the input $\\ket{1}$ should be $\\ket{7}(=\\ket{0111})$ and \n",
    " $\\ket{1}$ for the input $\\ket{13}$, for example."
   ]
  },
  {
   "cell_type": "code",
   "execution_count": 3,
   "id": "cb9b916f-951e-461b-89a5-ae7ca651111d",
   "metadata": {},
   "outputs": [],
   "source": [
    "## Your code here"
   ]
  },
  {
   "cell_type": "markdown",
   "id": "be06fff3-e66e-4248-85d6-14351195f2f0",
   "metadata": {},
   "source": [
    "### StepB:  Create a quantum circuit with $m$ qubits implementing $U$ gate $4=2^2$ times and run it using Operator(Which was imported in the first code block) to obtain the matrix resprentation of the gates in the circuit. Verify $U^{2^2}=I$\n"
   ]
  },
  {
   "cell_type": "markdown",
   "id": "b4fbbd68-71d9-4a04-a247-9b4bcae8a409",
   "metadata": {},
   "source": [
    "As shown in the above figure, modular exponentiation is realized by implementing the controlled unitary operator on each qubit \n",
    "$2^n$ times in series when $n$ goes from $0$ to $7$ for our example. However, we will find out that whole sets of operations are redundant when \n",
    "$n>1$ for $7\\mod15$ case, hence the redundant operation can be removed from the circuit."
   ]
  },
  {
   "cell_type": "code",
   "execution_count": 4,
   "id": "16f50617-8509-4d90-8ea7-9906e95ab73b",
   "metadata": {},
   "outputs": [],
   "source": [
    "## Your code here"
   ]
  },
  {
   "cell_type": "markdown",
   "id": "422986fb-450e-402f-8cda-4dc0de9cb6a3",
   "metadata": {},
   "source": [
    "### StepC: Run the cells below to see the reduced circuit, shor_QPE, and execute it on the qasm_simulator to check if it reproduce the estimated phases in the Qiskit textbook https://github.com/Qiskit/textbook/blob/main/notebooks/ch-algorithms/quantum-phase-estimation.ipynb"
   ]
  },
  {
   "cell_type": "code",
   "execution_count": 10,
   "id": "9cff5ecc-9c60-4875-a503-795cafa36e58",
   "metadata": {},
   "outputs": [],
   "source": [
    "def cU_multi(k):\n",
    "    circ = QuantumCircuit(m)\n",
    "    for _ in range(2**k):\n",
    "        circ.append(U, range(m))\n",
    "    \n",
    "    U_multi = circ.to_gate()\n",
    "    U_multi.name = '7Mod15_[2^{}]'.format(k)\n",
    "    \n",
    "    cU_multi = U_multi.control()\n",
    "    return cU_multi"
   ]
  },
  {
   "cell_type": "code",
   "execution_count": 4,
   "id": "33e62f96-2634-447f-9546-30b7b295b84c",
   "metadata": {},
   "outputs": [],
   "source": [
    "def qft(n):\n",
    "    \"\"\"Creates an n-qubit QFT circuit\"\"\"\n",
    "    circuit = QuantumCircuit(n)\n",
    "    def swap_registers(circuit, n):\n",
    "        for qubit in range(n//2):\n",
    "            circuit.swap(qubit, n-qubit-1)\n",
    "        return circuit\n",
    "    def qft_rotations(circuit, n):\n",
    "        \"\"\"Performs qft on the first n qubits in circuit (without swaps)\"\"\"\n",
    "        if n == 0:\n",
    "            return circuit\n",
    "        n -= 1\n",
    "        circuit.h(n)\n",
    "        for qubit in range(n):\n",
    "            circuit.cp(np.pi/2**(n-qubit), qubit, n)\n",
    "        qft_rotations(circuit, n)\n",
    "    \n",
    "    qft_rotations(circuit, n)\n",
    "    swap_registers(circuit, n)\n",
    "    return circuit"
   ]
  },
  {
   "cell_type": "code",
   "execution_count": null,
   "id": "183a6411-edd3-4044-a941-92e76d3385d7",
   "metadata": {},
   "outputs": [],
   "source": [
    "# QPE circuit for Shor\n",
    "t = 3 \n",
    "shor_QPE = QuantumCircuit(t+m, t)\n",
    "shor_QPE.h(range(t))\n",
    "\n",
    "shor_QPE.x(t)\n",
    "for idx in range(t-1):\n",
    "    shor_QPE.append(cU_multi(idx), [idx]+ list(range(t,t+m)))\n",
    "\n",
    "qft_dag = qft(t).inverse()\n",
    "qft_dag.name = 'QFT+'\n",
    "\n",
    "shor_QPE.append(qft_dag, range(t))\n",
    "shor_QPE.measure(range(t), range(t))\n",
    "\n",
    "shor_QPE.draw()"
   ]
  },
  {
   "cell_type": "code",
   "execution_count": null,
   "id": "7f440fcc-21e9-41fb-8358-2b4537d0414a",
   "metadata": {},
   "outputs": [],
   "source": [
    "backend = AerSimulator()\n",
    "\n",
    "transpiled_circuit = transpile(shor_QPE, backend)\n",
    "job = backend.run(transpiled_circuit, shots=1000, memory=True)\n",
    "count_QPE= job.result().get_counts()\n",
    "\n",
    "key_new = [str(int(key,2)/2**3) for key in count_QPE.keys()]\n",
    "count_new_QPE = dict(zip(key_new, count_QPE.values()))\n",
    "plot_histogram(count_new_QPE)"
   ]
  },
  {
   "cell_type": "markdown",
   "id": "7435713f-636f-46af-864c-25022e78c97d",
   "metadata": {},
   "source": [
    "## Part 2: Noisy simulation of the quantum order-finding circuits."
   ]
  },
  {
   "cell_type": "markdown",
   "id": "9b783d04-bfae-415a-84f5-1676eae993d8",
   "metadata": {},
   "source": [
    "Goal\n",
    "\n",
    "Perform the noise simulaton of all two quantum order-finding circuits: shor_Orig, shor_QPE. \n",
    "Compare their results.\n",
    "After this experiment, hopefully you will get better understand why we still need quantum error correction to factor large integer.\n",
    "A famous paper that I recommend you to read:\n",
    "https://arxiv.org/abs/1905.09749"
   ]
  },
  {
   "cell_type": "code",
   "execution_count": null,
   "id": "01142a1a-1171-4bda-a494-05b461a69e71",
   "metadata": {},
   "outputs": [],
   "source": [
    "t = 2*m\n",
    "\n",
    "shor_Orig = QuantumCircuit(t+m, t)\n",
    "shor_Orig.h(range(t))\n",
    "\n",
    "shor_Orig.x(t)\n",
    "for idx in range(t):\n",
    "    shor_Orig.append(cU_multi(idx), [idx]+ list(range(t,t+m)))\n",
    "\n",
    "qft_dag = qft(t).inverse()\n",
    "qft_dag.name = 'QFT+'\n",
    "\n",
    "shor_Orig.append(qft_dag, range(t))\n",
    "shor_Orig.measure(range(t), range(t))\n",
    "    \n",
    "shor_Orig.draw()"
   ]
  },
  {
   "cell_type": "code",
   "execution_count": null,
   "id": "19909a01-bb02-49c9-b89a-c9dfe7cd43c8",
   "metadata": {},
   "outputs": [],
   "source": [
    "backend = AerSimulator()\n",
    "\n",
    "transpiled_circuit = transpile(shor_Orig, backend)\n",
    "job = backend.run(transpiled_circuit, shots=1000, memory=True)\n",
    "count_Orig= job.result().get_counts()\n",
    "\n",
    "key_new = [str(int(key,2)/2**t) for key in count_Orig.keys()]\n",
    "count_Orig = dict(zip(key_new, count_Orig.values()))\n",
    "plot_histogram(count_Orig, title='textbook circuit simulation result No noise')"
   ]
  },
  {
   "cell_type": "markdown",
   "id": "7d84ca8a-ab7d-4cde-b193-0dbb70f14faa",
   "metadata": {},
   "source": [
    "#### Your task: Perform the noise simulations of all two circuits, shor_Orig, shor_QPE, with the noise model that we provide you here and run your simulation for different noise parameters p =[0.1,0.2,0.3,0.4,0.5] plot their noise simulation results together with ones without noise for comparison."
   ]
  },
  {
   "cell_type": "code",
   "execution_count": 38,
   "id": "e7d5121e-8461-465c-80f1-7cd7af5f7e03",
   "metadata": {},
   "outputs": [],
   "source": [
    "# Import from Qiskit Aer noise module\n",
    "from qiskit_aer.noise import (NoiseModel, QuantumError, ReadoutError,\n",
    "    pauli_error, depolarizing_error, thermal_relaxation_error)\n",
    "\n",
    "\n",
    "def construct_bitphaseflip_noise_model(p):\n",
    "    # We set three different noise parameter the same as p\n",
    "    p_reset = p\n",
    "    p_meas = p\n",
    "    p_gate1 = p\n",
    "\n",
    "    #Phase flip noise when there is gate of measurement\n",
    "    error_reset = pauli_error([('Z', p_reset), ('I', 1 - p_reset)])\n",
    "    error_meas = pauli_error([('Z',p_meas), ('I', 1 - p_meas)])\n",
    "    error_gate1 = pauli_error([('Z',p_gate1), ('I', 1 - p_gate1)])\n",
    "    error_gate2 = error_gate1.tensor(error_gate1)\n",
    "\n",
    "    #Bitflip noise when there is gate of measurement\n",
    "    error_reset_bit = pauli_error([('X', p_reset), ('I', 1 - p_reset)])\n",
    "    error_meas_bit = pauli_error([('X',p_meas), ('I', 1 - p_meas)])\n",
    "    error_gate1_bit = pauli_error([('X',p_gate1), ('I', 1 - p_gate1)])\n",
    "    error_gate2_bit = error_gate1_bit.tensor(error_gate1)\n",
    "\n",
    "    # Add above errors to the same noise model object\n",
    "    noise_bitphase_flip = NoiseModel()\n",
    "    noise_bitphase_flip.add_all_qubit_quantum_error(error_reset_bit, \"reset\")\n",
    "    noise_bitphase_flip.add_all_qubit_quantum_error(error_meas_bit, \"measure\")\n",
    "    noise_bitphase_flip.add_all_qubit_quantum_error(error_gate1_bit, [\"x\",\"h\",\"t\",\"tdg\"])\n",
    "    noise_bitphase_flip.add_all_qubit_quantum_error(error_gate2_bit, [\"cx,ccx\"])\n",
    "    \n",
    "\n",
    "    return noise_bitphase_flip"
   ]
  },
  {
   "cell_type": "markdown",
   "id": "c175cc3c-f992-4453-9f5e-b8ce575d645d",
   "metadata": {},
   "source": [
    "Setup your noisemodel with noise parameter"
   ]
  },
  {
   "cell_type": "code",
   "execution_count": 43,
   "id": "26dc152f-c162-4bf4-824b-f60b03ad0f0f",
   "metadata": {},
   "outputs": [],
   "source": [
    "p=0\n",
    "noisemodel=construct_bitphaseflip_noise_model(p)"
   ]
  },
  {
   "cell_type": "code",
   "execution_count": null,
   "id": "65bc622b-1875-4360-8b37-7d9335280ccf",
   "metadata": {},
   "outputs": [],
   "source": [
    "backend = AerSimulator()\n",
    "\n",
    "transpiled_circuit = transpile(shor_Orig, backend)\n",
    "job = backend.run(transpiled_circuit,noise_model=noisemodel, shots=1000, memory=True)\n",
    "count_Orig= job.result().get_counts()\n",
    "\n",
    "key_new = [str(int(key,2)/2**t) for key in count_Orig.keys()]\n",
    "count_Orig = dict(zip(key_new, count_Orig.values()))\n",
    "plot_histogram(count_Orig, title='textbook circuit simulation with noise')"
   ]
  },
  {
   "cell_type": "markdown",
   "id": "2e9e7160-1ccc-477f-875e-7d1f2b617855",
   "metadata": {},
   "source": [
    "## Additional task: Do the lab two more times, but these times for N=21 and N=63. Describe any major differences in behavior between these cases."
   ]
  },
  {
   "cell_type": "markdown",
   "id": "2b473515-ee91-4ec1-885d-ac3f7ac9c3df",
   "metadata": {},
   "source": [
    "First, we add a modification of function cU_multi to _cU_multi, by setting both U and m as parameters:"
   ]
  },
  {
   "cell_type": "code",
   "execution_count": 53,
   "id": "ea845c6a-16c8-48c4-aa3c-621d72f1c943",
   "metadata": {},
   "outputs": [],
   "source": [
    "def _cU_multi(U,m,k):\n",
    "    circ = QuantumCircuit(m)\n",
    "    for _ in range(2**k):\n",
    "        circ.append(U, range(m))\n",
    "    \n",
    "    U_multi = circ.to_gate()\n",
    "    U_multi.name = '7Mod15_[2^{}]'.format(k)\n",
    "    \n",
    "    cU_multi = U_multi.control()\n",
    "    return cU_multi"
   ]
  },
  {
   "cell_type": "markdown",
   "id": "7888d0ed-69e6-4ef9-a094-37a1efc6b709",
   "metadata": {},
   "source": [
    "Here I give you an example of the Shor15 function. This is the exact format we expect you to implement for N=21 and N=63.\n",
    "You might use any base $a$ as you like for modular exponential. "
   ]
  },
  {
   "cell_type": "code",
   "execution_count": 54,
   "id": "02f74cb6-bc37-43ce-8191-4e0b2abd2c5b",
   "metadata": {},
   "outputs": [],
   "source": [
    "def Shor15():\n",
    "    ## Code for constructing shor_QPE for factoring 15 starts here\n",
    "    a = 7\n",
    "    N = 15\n",
    "    m = int(np.ceil(np.log2(N)))\n",
    "    \n",
    "    U_qc = QuantumCircuit(m)\n",
    "    U_qc.x(range(m))\n",
    "    U_qc.swap(1, 2)\n",
    "    U_qc.swap(2, 3)\n",
    "    U_qc.swap(0, 3)\n",
    "    \n",
    "    U = U_qc.to_gate()\n",
    "    U.name ='{}Mod{}'.format(7, N)\n",
    "\n",
    "    # QPE circuit for Shor15\n",
    "    t = 3 \n",
    "    shor_QPE = QuantumCircuit(t+m, t)\n",
    "    shor_QPE.h(range(t))\n",
    "    \n",
    "    shor_QPE.x(t)\n",
    "    for idx in range(t-1):\n",
    "        shor_QPE.append(_cU_multi(U,m,idx), [idx]+ list(range(t,t+m)))\n",
    "    \n",
    "    qft_dag = qft(t).inverse()\n",
    "    qft_dag.name = 'QFT+'\n",
    "    \n",
    "    shor_QPE.append(qft_dag, range(t))\n",
    "    shor_QPE.measure(range(t), range(t))\n",
    "    ## Code for constructing shor_QPE for factoring 15 ends here    \n",
    "\n",
    "    \n",
    "    backend = AerSimulator()\n",
    "    transpiled_circuit = transpile(shor_QPE, backend)\n",
    "    job = backend.run(transpiled_circuit, shots=1000, memory=True)\n",
    "    count_QPE= job.result().get_counts()\n",
    "    return a, shor_QPE, count_QPE"
   ]
  },
  {
   "cell_type": "markdown",
   "id": "5c487dd9-dd6b-46df-b209-09fdb9946795",
   "metadata": {},
   "source": [
    "Please implement the following function of factoring 21. \n",
    "You should submit this function in .py file."
   ]
  },
  {
   "cell_type": "code",
   "execution_count": 55,
   "id": "9257e6b5-9b85-4dcf-a310-74ae200d3b56",
   "metadata": {},
   "outputs": [],
   "source": [
    "def Shor21():\n",
    "    ##Your circuit for creating quantum circuit shor_QPT of factoring 21 starts here\n",
    "    a = 2 # By default, you can use a=2\n",
    "    shor_QPE=None\n",
    "\n",
    "\n",
    "\n",
    "\n",
    "    \n",
    "    ##Your circuit for creating quantum circuit shor_QPT of factoring 21 ends here    \n",
    "    backend = AerSimulator()\n",
    "    transpiled_circuit = transpile(shor_QPE, backend)\n",
    "    job = backend.run(transpiled_circuit, shots=1000, memory=True)\n",
    "    count_QPE= job.result().get_counts()\n",
    "    return a, shor_QPE, count_QPE"
   ]
  },
  {
   "cell_type": "markdown",
   "id": "4cdee684-970c-466b-9017-0d7de23a2387",
   "metadata": {},
   "source": [
    "Please implement the following function of factoring 21. \n",
    "You should submit this function in .py file."
   ]
  },
  {
   "cell_type": "code",
   "execution_count": 56,
   "id": "547891dc-709c-4f6c-a9c2-b9546fbcbfe8",
   "metadata": {},
   "outputs": [],
   "source": [
    "def Shor63():\n",
    "    ##Your circuit for creating quantum circuit shor_QPT of factoring 63 starts here\n",
    "    shor_QPE=None\n",
    "    a = 2 # By default, you can use a=2    \n",
    "\n",
    "\n",
    "\n",
    "\n",
    "    \n",
    "    ##Your circuit for creating quantum circuit shor_QPT of factoring 63 ends here    \n",
    "    backend = AerSimulator()\n",
    "    transpiled_circuit = transpile(shor_QPE, backend)\n",
    "    job = backend.run(transpiled_circuit, shots=1000, memory=True)\n",
    "    count_QPE= job.result().get_counts()\n",
    "    return a, shor_QPE, count_QPE"
   ]
  }
 ],
 "metadata": {
  "kernelspec": {
   "display_name": "Python 3 (ipykernel)",
   "language": "python",
   "name": "python3"
  },
  "language_info": {
   "codemirror_mode": {
    "name": "ipython",
    "version": 3
   },
   "file_extension": ".py",
   "mimetype": "text/x-python",
   "name": "python",
   "nbconvert_exporter": "python",
   "pygments_lexer": "ipython3",
   "version": "3.11.1"
  }
 },
 "nbformat": 4,
 "nbformat_minor": 5
}
